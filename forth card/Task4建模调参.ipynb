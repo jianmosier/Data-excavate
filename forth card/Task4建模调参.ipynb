{
  "nbformat": 4,
  "nbformat_minor": 0,
  "metadata": {
    "colab": {
      "name": "Task4建模调参.ipynb",
      "provenance": [],
      "collapsed_sections": [],
      "mount_file_id": "1oB1WyLyVJz9GNfRuGIZBSRxpGI_MP_WW",
      "authorship_tag": "ABX9TyODRMG9rgmUSJ4ofOQ+Yr3q",
      "include_colab_link": true
    },
    "kernelspec": {
      "name": "python3",
      "display_name": "Python 3"
    }
  },
  "cells": [
    {
      "cell_type": "markdown",
      "metadata": {
        "id": "view-in-github",
        "colab_type": "text"
      },
      "source": [
        "<a href=\"https://colab.research.google.com/github/jianmosier/Data-excavate/blob/master/forth%20card/Task4%E5%BB%BA%E6%A8%A1%E8%B0%83%E5%8F%82.ipynb\" target=\"_parent\"><img src=\"https://colab.research.google.com/assets/colab-badge.svg\" alt=\"Open In Colab\"/></a>"
      ]
    },
    {
      "cell_type": "markdown",
      "metadata": {
        "id": "jAx2v_NAfF7f",
        "colab_type": "text"
      },
      "source": [
        "#四、建模与调参\n",
        "了解各种模型的评价和调参策略"
      ]
    },
    {
      "cell_type": "markdown",
      "metadata": {
        "id": "gQcP3NlgdP3k",
        "colab_type": "text"
      },
      "source": [
        "##4.1学习目标\n",
        "了解常用的机器学习模型，并掌握机器学习模型的建模与调参流程"
      ]
    },
    {
      "cell_type": "markdown",
      "metadata": {
        "id": "8Udb4V22d6gM",
        "colab_type": "text"
      },
      "source": [
        "##4.2内容介绍\n",
        "1.线性回归模型：\n",
        "*   线性回归对于特征的要求；\n",
        "*   处理长尾分布；\n",
        "*   理解线性回归模型；\n",
        "2.模型性能验证：\n",
        "*   评价函数与目标函数\n",
        "*   交叉验证方法\n",
        "*   留一验证方法\n",
        "*   针对时间序列问题的验证\n",
        "*   绘制学习率曲线\n",
        "*   绘制验证曲线\n",
        "3.嵌入式特征选择：\n",
        "*   Lasso回归\n",
        "*   Ridge回归\n",
        "*   决策树\n",
        "4.模型对比：\n",
        "*   常用线性模型\n",
        "*   常用非线性模型\n",
        "5.模型调参：\n",
        "*   贪心调参方法\n",
        "*   网格调参方法\n",
        "*   贝叶斯调参方法\n",
        "\n",
        "\n",
        "\n",
        "\n",
        "\n",
        "\n",
        "\n",
        "\n",
        "\n",
        "\n",
        "\n",
        "\n",
        "\n",
        "\n",
        "\n",
        "\n",
        "\n"
      ]
    },
    {
      "cell_type": "markdown",
      "metadata": {
        "id": "H9UP_WiFgFPZ",
        "colab_type": "text"
      },
      "source": [
        "##4.3相关原理介绍与推荐\n",
        "###4.3.1[线性回归模型](https://zhuanlan.zhihu.com/p/49480391)\n",
        "###4.3.2[决策树模型](https://zhuanlan.zhihu.com/p/65304798)\n",
        "###4.3.3[GBDT模型](https://zhuanlan.zhihu.com/p/45145899)\n",
        "###4.3.4[XGBoost模型](https://zhuanlan.zhihu.com/p/86816771)\n",
        "###4.3.5[LightGBM模型](https://zhuanlan.zhihu.com/p/86816771)\n",
        "###4.3.6推荐教材：\n",
        "《机器学习》\n",
        "《统计学习方法》\n",
        "《Python大战机器学习》\n",
        "《面向机器学习的特征工程》\n",
        "《数据科学家访谈录》"
      ]
    },
    {
      "cell_type": "markdown",
      "metadata": {
        "id": "DnG9WrOpirqP",
        "colab_type": "text"
      },
      "source": [
        "##4.4代码示例\n"
      ]
    },
    {
      "cell_type": "markdown",
      "metadata": {
        "id": "OCFIJsyniwQ2",
        "colab_type": "text"
      },
      "source": [
        "###4.4.1读取数据"
      ]
    },
    {
      "cell_type": "code",
      "metadata": {
        "id": "7Khl16c5olht",
        "colab_type": "code",
        "colab": {}
      },
      "source": [
        "import pandas as pd\n",
        "import numpy as np\n",
        "import warnings\n",
        "warnings.filterwarnings('ignore')"
      ],
      "execution_count": 0,
      "outputs": []
    },
    {
      "cell_type": "markdown",
      "metadata": {
        "id": "oXLaKLsPi_Gt",
        "colab_type": "text"
      },
      "source": [
        "reduce_mem_usage 函数通过调整数据类型，帮助我们减少数据在内存中占用的空间"
      ]
    },
    {
      "cell_type": "code",
      "metadata": {
        "id": "C9Gh6VLUo7I7",
        "colab_type": "code",
        "colab": {}
      },
      "source": [
        "def reduce_mem_usage(df):\n",
        "    \"\"\" iterate through all the columns of a dataframe and modify the data type\n",
        "        to reduce memory usage.        \n",
        "    \"\"\"\n",
        "    start_mem = df.memory_usage().sum() \n",
        "    print('Memory usage of dataframe is {:.2f} MB'.format(start_mem/1024/1024+start_mem%1024/1024))\n",
        "    for col in df.columns:\n",
        "        col_type = df[col].dtype\n",
        "        \n",
        "        if col_type != object:\n",
        "            c_min = df[col].min()\n",
        "            c_max = df[col].max()\n",
        "            if str(col_type)[:3] == 'int':\n",
        "                if c_min > np.iinfo(np.int8).min and c_max < np.iinfo(np.int8).max:\n",
        "                    df[col] = df[col].astype(np.int8)\n",
        "                elif c_min > np.iinfo(np.int16).min and c_max < np.iinfo(np.int16).max:\n",
        "                    df[col] = df[col].astype(np.int16)\n",
        "                elif c_min > np.iinfo(np.int32).min and c_max < np.iinfo(np.int32).max:\n",
        "                    df[col] = df[col].astype(np.int32)\n",
        "                elif c_min > np.iinfo(np.int64).min and c_max < np.iinfo(np.int64).max:\n",
        "                    df[col] = df[col].astype(np.int64)  \n",
        "            else:\n",
        "                if c_min > np.finfo(np.float16).min and c_max < np.finfo(np.float16).max:\n",
        "                    df[col] = df[col].astype(np.float16)\n",
        "                elif c_min > np.finfo(np.float32).min and c_max < np.finfo(np.float32).max:\n",
        "                    df[col] = df[col].astype(np.float32)\n",
        "                else:\n",
        "                    df[col] = df[col].astype(np.float64)\n",
        "        else:\n",
        "            df[col] = df[col].astype('category')\n",
        "\n",
        "    end_mem = df.memory_usage().sum() \n",
        "    print('Memory usage after optimization is: {:.2f} MB'.format(end_mem/1024/1024+end_mem%1024/1024))\n",
        "    print('Decreased by {:.1f}%'.format(100 * (start_mem - end_mem) / start_mem))\n",
        "    return df"
      ],
      "execution_count": 0,
      "outputs": []
    },
    {
      "cell_type": "code",
      "metadata": {
        "id": "jeG0X-Lyo9zd",
        "colab_type": "code",
        "colab": {
          "base_uri": "https://localhost:8080/",
          "height": 71
        },
        "outputId": "cf9f7f31-4d5e-4684-c7e0-399a78c97bb2"
      },
      "source": [
        "sample_feature = reduce_mem_usage(pd.read_csv('/content/drive/My Drive/数据挖掘入门/Task3特征工程/data_for_tree.csv'))"
      ],
      "execution_count": 5,
      "outputs": [
        {
          "output_type": "stream",
          "text": [
            "Memory usage of dataframe is 59.43 MB\n",
            "Memory usage after optimization is: 15.86 MB\n",
            "Decreased by 73.4%\n"
          ],
          "name": "stdout"
        }
      ]
    },
    {
      "cell_type": "code",
      "metadata": {
        "id": "FHciGNaUo_67",
        "colab_type": "code",
        "colab": {}
      },
      "source": [
        "continuous_feature_names = [x for x in sample_feature.columns if x not in ['price','brand','model','brand']]"
      ],
      "execution_count": 0,
      "outputs": []
    },
    {
      "cell_type": "markdown",
      "metadata": {
        "id": "JZHNVd6NfyRC",
        "colab_type": "text"
      },
      "source": [
        "###4.4.2线性回归&五折交叉验证&模拟真实业务情况"
      ]
    },
    {
      "cell_type": "code",
      "metadata": {
        "id": "a-HSuKytpCip",
        "colab_type": "code",
        "colab": {}
      },
      "source": [
        "sample_feature = sample_feature.dropna().replace('-', 0).reset_index(drop=True)  #reset_index(drop=True)保证index连续\n",
        "sample_feature['notRepairedDamage'] = sample_feature['notRepairedDamage'].astype(np.float32)\n",
        "train = sample_feature[continuous_feature_names + ['price']]\n",
        "\n",
        "train_X = train[continuous_feature_names]\n",
        "train_y = train['price']"
      ],
      "execution_count": 0,
      "outputs": []
    },
    {
      "cell_type": "markdown",
      "metadata": {
        "id": "NOCY86ZnG7m4",
        "colab_type": "text"
      },
      "source": [
        "###4.4.2-1简单建模"
      ]
    },
    {
      "cell_type": "code",
      "metadata": {
        "id": "KFz5uT6OpFLR",
        "colab_type": "code",
        "colab": {}
      },
      "source": [
        "from sklearn.linear_model import LinearRegression"
      ],
      "execution_count": 0,
      "outputs": []
    },
    {
      "cell_type": "code",
      "metadata": {
        "id": "mmxEmSwMpGk4",
        "colab_type": "code",
        "colab": {}
      },
      "source": [
        "model = LinearRegression(normalize=True)"
      ],
      "execution_count": 0,
      "outputs": []
    },
    {
      "cell_type": "code",
      "metadata": {
        "id": "gj-BN4JspIZd",
        "colab_type": "code",
        "colab": {}
      },
      "source": [
        "model = model.fit(train_X, train_y)"
      ],
      "execution_count": 0,
      "outputs": []
    },
    {
      "cell_type": "markdown",
      "metadata": {
        "id": "9klh6eymHFHl",
        "colab_type": "text"
      },
      "source": [
        "查看训练的线性回归模型的截距（intercept）与权重（coef）"
      ]
    },
    {
      "cell_type": "code",
      "metadata": {
        "id": "v3xskDu6pLu9",
        "colab_type": "code",
        "colab": {}
      },
      "source": [
        "'intercept:'+ str(model.intercept_)\n",
        "\n",
        "sorted(dict(zip(continuous_feature_names, model.coef_)).items(), key=lambda x:x[1], reverse=True)"
      ],
      "execution_count": 0,
      "outputs": []
    },
    {
      "cell_type": "code",
      "metadata": {
        "id": "DFLLVnJkpOZh",
        "colab_type": "code",
        "colab": {}
      },
      "source": [
        "from matplotlib import pyplot as plt"
      ],
      "execution_count": 0,
      "outputs": []
    },
    {
      "cell_type": "code",
      "metadata": {
        "id": "Actg10lupREx",
        "colab_type": "code",
        "colab": {}
      },
      "source": [
        "subsample_index = np.random.randint(low=0, high=len(train_y), size=50)"
      ],
      "execution_count": 0,
      "outputs": []
    },
    {
      "cell_type": "markdown",
      "metadata": {
        "id": "xAnJGIMtTW-l",
        "colab_type": "text"
      },
      "source": [
        "绘制特征v_9的值与标签的散点图，图片发现模型的预测结果与真实标签的分布差异较大，且部分预测值小于0,说明模型存在问题"
      ]
    },
    {
      "cell_type": "code",
      "metadata": {
        "id": "5TuC6MWSpS49",
        "colab_type": "code",
        "colab": {
          "base_uri": "https://localhost:8080/",
          "height": 298
        },
        "outputId": "80c05c0d-5a2f-4329-f3b0-13410260499b"
      },
      "source": [
        "plt.scatter(train_X['v_9'][subsample_index], train_y[subsample_index], color='black')\n",
        "plt.scatter(train_X['v_9'][subsample_index], model.predict(train_X.loc[subsample_index]), color='blue')\n",
        "plt.xlabel('v_9')\n",
        "plt.ylabel('price')\n",
        "plt.legend(['True Price','Predicted Price'],loc='upper right')\n",
        "print('The predicted price is obvious different from true price')\n",
        "plt.show()"
      ],
      "execution_count": 14,
      "outputs": [
        {
          "output_type": "stream",
          "text": [
            "The predicted price is obvious different from true price\n"
          ],
          "name": "stdout"
        },
        {
          "output_type": "display_data",
          "data": {
            "image/png": "[encoded data removed]",
            "text/plain": [
              "<Figure size 432x288 with 1 Axes>"
            ]
          },
          "metadata": {
            "tags": []
          }
        }
      ]
    },
    {
      "cell_type": "markdown",
      "metadata": {
        "id": "_6-65g_TVNwV",
        "colab_type": "text"
      },
      "source": [
        "通过作图我们发现数据的标签呈现长尾分布，不利于建模预测。原因是很多模型都假设数据误差项符合正态分布，而长尾分布的数据违背了这一假设。[参考](https://blog.csdn.net/Noob_daniel/article/details/76087829)"
      ]
    },
    {
      "cell_type": "code",
      "metadata": {
        "id": "ScpI50UJpV7y",
        "colab_type": "code",
        "colab": {
          "base_uri": "https://localhost:8080/",
          "height": 275
        },
        "outputId": "b01be079-667d-4597-9d7d-761960319102"
      },
      "source": [
        "import seaborn as sns\n",
        "print('It is clear to see the price shows a typical exponential distribution')\n",
        "plt.figure(figsize=(15,5))\n",
        "plt.subplot(1,2,1)\n",
        "sns.distplot(train_y)\n",
        "plt.subplot(1,2,2)\n",
        "sns.distplot(train_y[train_y < np.quantile(train_y, 0.9)])"
      ],
      "execution_count": 15,
      "outputs": [
        {
          "output_type": "stream",
          "text": [
            "It is clear to see the price shows a typical exponential distribution\n"
          ],
          "name": "stdout"
        },
        {
          "output_type": "execute_result",
          "data": {
            "text/plain": [
              "<matplotlib.axes._subplots.AxesSubplot at 0x7fb69fedfa58>"
            ]
          },
          "metadata": {
            "tags": []
          },
          "execution_count": 15
        },
        {
          "output_type": "display_data",
          "data": {
            "image/png": "[encoded data removed]",
            "text/plain": [
              "<Figure size 1080x360 with 2 Axes>"
            ]
          },
          "metadata": {
            "tags": []
          }
        }
      ]
    },
    {
      "cell_type": "markdown",
      "metadata": {
        "id": "waZwNWc3V763",
        "colab_type": "text"
      },
      "source": [
        "在这里我们对标签进行了log(x+1)变换，使标签贴近于正态分布"
      ]
    },
    {
      "cell_type": "code",
      "metadata": {
        "id": "6oZchicMpY5u",
        "colab_type": "code",
        "colab": {}
      },
      "source": [
        "train_y_ln = np.log(train_y + 1)"
      ],
      "execution_count": 0,
      "outputs": []
    },
    {
      "cell_type": "code",
      "metadata": {
        "id": "ti-DXxDBpbLg",
        "colab_type": "code",
        "colab": {
          "base_uri": "https://localhost:8080/",
          "height": 280
        },
        "outputId": "99cf40b8-02e6-4c2c-dbc0-44c894bbd3cc"
      },
      "source": [
        "import seaborn as sns\n",
        "print('The transformed price seems like normal distribution')\n",
        "plt.figure(figsize=(15,5))\n",
        "plt.subplot(1,2,1)\n",
        "sns.distplot(train_y_ln)\n",
        "plt.subplot(1,2,2)\n",
        "sns.distplot(train_y_ln[train_y_ln < np.quantile(train_y_ln, 0.9)])"
      ],
      "execution_count": 17,
      "outputs": [
        {
          "output_type": "stream",
          "text": [
            "The transformed price seems like normal distribution\n"
          ],
          "name": "stdout"
        },
        {
          "output_type": "execute_result",
          "data": {
            "text/plain": [
              "<matplotlib.axes._subplots.AxesSubplot at 0x7fb69fd522e8>"
            ]
          },
          "metadata": {
            "tags": []
          },
          "execution_count": 17
        },
        {
          "output_type": "display_data",
          "data": {
            "image/png": "[encoded data removed]",
            "text/plain": [
              "<Figure size 1080x360 with 2 Axes>"
            ]
          },
          "metadata": {
            "tags": []
          }
        }
      ]
    },
    {
      "cell_type": "code",
      "metadata": {
        "id": "vrvmA-KdpgUn",
        "colab_type": "code",
        "colab": {}
      },
      "source": [
        "model = model.fit(train_X, train_y_ln)\n",
        "\n",
        "print('intercept:'+ str(model.intercept_))\n",
        "sorted(dict(zip(continuous_feature_names, model.coef_)).items(), key=lambda x:x[1], reverse=True)"
      ],
      "execution_count": 0,
      "outputs": []
    },
    {
      "cell_type": "markdown",
      "metadata": {
        "id": "R9EY_rl4Wd8T",
        "colab_type": "text"
      },
      "source": [
        "再次进行可视化，发现预测结果与真实值较为接近，且未出现异常状况"
      ]
    },
    {
      "cell_type": "code",
      "metadata": {
        "id": "UMK9oxfjpjSO",
        "colab_type": "code",
        "colab": {
          "base_uri": "https://localhost:8080/",
          "height": 298
        },
        "outputId": "139d1b26-73b3-462f-87ce-376d57c1da7e"
      },
      "source": [
        "plt.scatter(train_X['v_9'][subsample_index], train_y[subsample_index], color='black')\n",
        "plt.scatter(train_X['v_9'][subsample_index], np.exp(model.predict(train_X.loc[subsample_index])), color='blue')\n",
        "plt.xlabel('v_9')\n",
        "plt.ylabel('price')\n",
        "plt.legend(['True Price','Predicted Price'],loc='upper right')\n",
        "print('The predicted price seems normal after np.log transforming')\n",
        "plt.show()"
      ],
      "execution_count": 19,
      "outputs": [
        {
          "output_type": "stream",
          "text": [
            "The predicted price seems normal after np.log transforming\n"
          ],
          "name": "stdout"
        },
        {
          "output_type": "display_data",
          "data": {
            "image/png": "[encoded data removed]",
            "text/plain": [
              "<Figure size 432x288 with 1 Axes>"
            ]
          },
          "metadata": {
            "tags": []
          }
        }
      ]
    },
    {
      "cell_type": "markdown",
      "metadata": {
        "id": "lfuHDyOdWp9C",
        "colab_type": "text"
      },
      "source": [
        "###4.4.2-2五折交叉验证\n",
        "在使用训练集对参数进行训练的时候，经常发现人们通常会将一整个训练集分为三部分（比如mnist手写训练集）。一般分为，训练集，评估集，测试集这三个部分。这其实是为了保证训练效果而特意设置的。测试集：就是完全不参与训练的效果，仅仅用来观测测试效果的数据。而训练集和评估集牵扯到下面的知识。\n",
        "在实际的训练中，训练的结果对训练集的拟合程度还是挺好的，但是对于训练集外面的数据拟合程度通常不那么令人满意。因此我们通常不会把所有的数据集都拿来训练，而是分出一部分来对训练集生成的参数进行测试，相对客观的判断这些参数对训练集之外的数据的符合程度。这种思想称为交叉验证（Cross Validation）。"
      ]
    },
    {
      "cell_type": "code",
      "metadata": {
        "id": "JmmhRalspl-t",
        "colab_type": "code",
        "colab": {}
      },
      "source": [
        "from sklearn.model_selection import cross_val_score\n",
        "from sklearn.metrics import mean_absolute_error,  make_scorer"
      ],
      "execution_count": 0,
      "outputs": []
    },
    {
      "cell_type": "code",
      "metadata": {
        "id": "fd6qDwM9pn6R",
        "colab_type": "code",
        "colab": {}
      },
      "source": [
        "def log_transfer(func):\n",
        "    def wrapper(y, yhat):\n",
        "        result = func(np.log(y), np.nan_to_num(np.log(yhat)))\n",
        "        return result\n",
        "    return wrapper"
      ],
      "execution_count": 0,
      "outputs": []
    },
    {
      "cell_type": "code",
      "metadata": {
        "id": "zfdQfR2DpqOO",
        "colab_type": "code",
        "colab": {
          "base_uri": "https://localhost:8080/",
          "height": 53
        },
        "outputId": "677935de-8593-4aeb-f0db-9f924c9d25c1"
      },
      "source": [
        "scores = cross_val_score(model, X=train_X, y=train_y, verbose=1, cv = 5, scoring=make_scorer(log_transfer(mean_absolute_error)))"
      ],
      "execution_count": 22,
      "outputs": [
        {
          "output_type": "stream",
          "text": [
            "[Parallel(n_jobs=1)]: Using backend SequentialBackend with 1 concurrent workers.\n",
            "[Parallel(n_jobs=1)]: Done   5 out of   5 | elapsed:    0.7s finished\n"
          ],
          "name": "stderr"
        }
      ]
    },
    {
      "cell_type": "markdown",
      "metadata": {
        "id": "Bv9z66kzZBMu",
        "colab_type": "text"
      },
      "source": [
        "使用线性回归模型对，未处理的标签的特征数据进行五折交叉验证"
      ]
    },
    {
      "cell_type": "code",
      "metadata": {
        "id": "R0EsX4KWpsZu",
        "colab_type": "code",
        "colab": {
          "base_uri": "https://localhost:8080/",
          "height": 35
        },
        "outputId": "9b8643f6-afd2-4889-9748-5d0976e68e26"
      },
      "source": [
        "print('AVG:', np.mean(scores))"
      ],
      "execution_count": 24,
      "outputs": [
        {
          "output_type": "stream",
          "text": [
            "AVG: 1.3658024027228914\n"
          ],
          "name": "stdout"
        }
      ]
    },
    {
      "cell_type": "markdown",
      "metadata": {
        "id": "Ttg6Gqt-ZSg4",
        "colab_type": "text"
      },
      "source": [
        "使用线性回归模型，对处理的标签的特征数据进行五折交叉验证"
      ]
    },
    {
      "cell_type": "code",
      "metadata": {
        "id": "Lk_vxRYkpt1X",
        "colab_type": "code",
        "colab": {
          "base_uri": "https://localhost:8080/",
          "height": 53
        },
        "outputId": "d3d87473-b173-4eaa-8db8-80cf81e5d7c2"
      },
      "source": [
        "scores = cross_val_score(model, X=train_X, y=train_y_ln, verbose=1, cv = 5, scoring=make_scorer(mean_absolute_error))"
      ],
      "execution_count": 25,
      "outputs": [
        {
          "output_type": "stream",
          "text": [
            "[Parallel(n_jobs=1)]: Using backend SequentialBackend with 1 concurrent workers.\n",
            "[Parallel(n_jobs=1)]: Done   5 out of   5 | elapsed:    0.7s finished\n"
          ],
          "name": "stderr"
        }
      ]
    },
    {
      "cell_type": "code",
      "metadata": {
        "id": "nwOcIsNYpwDK",
        "colab_type": "code",
        "colab": {
          "base_uri": "https://localhost:8080/",
          "height": 35
        },
        "outputId": "b8ed9ec0-b13a-434f-a989-374e15901d63"
      },
      "source": [
        "print('AVG:', np.mean(scores))"
      ],
      "execution_count": 26,
      "outputs": [
        {
          "output_type": "stream",
          "text": [
            "AVG: 0.19325301545987963\n"
          ],
          "name": "stdout"
        }
      ]
    },
    {
      "cell_type": "code",
      "metadata": {
        "id": "Pdd_KQkrpy52",
        "colab_type": "code",
        "colab": {
          "base_uri": "https://localhost:8080/",
          "height": 80
        },
        "outputId": "676a526c-58f7-4920-a3ec-5d440337e79d"
      },
      "source": [
        "scores = pd.DataFrame(scores.reshape(1,-1))\n",
        "scores.columns = ['cv' + str(x) for x in range(1, 6)]\n",
        "scores.index = ['MAE']\n",
        "scores"
      ],
      "execution_count": 27,
      "outputs": [
        {
          "output_type": "execute_result",
          "data": {
            "text/html": [
              "<div>\n",
              "<style scoped>\n",
              "    .dataframe tbody tr th:only-of-type {\n",
              "        vertical-align: middle;\n",
              "    }\n",
              "\n",
              "    .dataframe tbody tr th {\n",
              "        vertical-align: top;\n",
              "    }\n",
              "\n",
              "    .dataframe thead th {\n",
              "        text-align: right;\n",
              "    }\n",
              "</style>\n",
              "<table border=\"1\" class=\"dataframe\">\n",
              "  <thead>\n",
              "    <tr style=\"text-align: right;\">\n",
              "      <th></th>\n",
              "      <th>cv1</th>\n",
              "      <th>cv2</th>\n",
              "      <th>cv3</th>\n",
              "      <th>cv4</th>\n",
              "      <th>cv5</th>\n",
              "    </tr>\n",
              "  </thead>\n",
              "  <tbody>\n",
              "    <tr>\n",
              "      <th>MAE</th>\n",
              "      <td>0.190792</td>\n",
              "      <td>0.193758</td>\n",
              "      <td>0.194132</td>\n",
              "      <td>0.191825</td>\n",
              "      <td>0.195758</td>\n",
              "    </tr>\n",
              "  </tbody>\n",
              "</table>\n",
              "</div>"
            ],
            "text/plain": [
              "          cv1       cv2       cv3       cv4       cv5\n",
              "MAE  0.190792  0.193758  0.194132  0.191825  0.195758"
            ]
          },
          "metadata": {
            "tags": []
          },
          "execution_count": 27
        }
      ]
    },
    {
      "cell_type": "markdown",
      "metadata": {
        "id": "Wy0sTALwZv_M",
        "colab_type": "text"
      },
      "source": [
        "###4.4.2-3模拟真实业务情况\n",
        "事实上，由于我们并不具有预知未来的能力，五折交叉验证在某些时间相关的数据集上反而反映了不真实的情况。通过2018年的二手车价格预测2017年的二手车价格，显然不合理。因此，我们还可以采用时间顺序对数据集进行分割。在本例中，我们选择靠前时间的4/5样本当做训练集，靠后时间的1/5当做验证集，最终结果与五折交叉验证差距不大"
      ]
    },
    {
      "cell_type": "code",
      "metadata": {
        "id": "bOkRj2Yap123",
        "colab_type": "code",
        "colab": {}
      },
      "source": [
        "import datetime"
      ],
      "execution_count": 0,
      "outputs": []
    },
    {
      "cell_type": "code",
      "metadata": {
        "id": "PNyKuBKYp4Gw",
        "colab_type": "code",
        "colab": {}
      },
      "source": [
        "sample_feature = sample_feature.reset_index(drop=True)"
      ],
      "execution_count": 0,
      "outputs": []
    },
    {
      "cell_type": "code",
      "metadata": {
        "id": "mWq4gl7Qp8w1",
        "colab_type": "code",
        "colab": {}
      },
      "source": [
        "split_point = len(sample_feature) // 5 * 4"
      ],
      "execution_count": 0,
      "outputs": []
    },
    {
      "cell_type": "code",
      "metadata": {
        "id": "E4D6maVap-37",
        "colab_type": "code",
        "colab": {}
      },
      "source": [
        "train = sample_feature.loc[:split_point].dropna()\n",
        "val = sample_feature.loc[split_point:].dropna()\n",
        "\n",
        "train_X = train[continuous_feature_names]\n",
        "train_y_ln = np.log(train['price'] + 1)\n",
        "val_X = val[continuous_feature_names]\n",
        "val_y_ln = np.log(val['price'] + 1)"
      ],
      "execution_count": 0,
      "outputs": []
    },
    {
      "cell_type": "code",
      "metadata": {
        "id": "3tzMXJdXqB3h",
        "colab_type": "code",
        "colab": {}
      },
      "source": [
        "model = model.fit(train_X, train_y_ln)"
      ],
      "execution_count": 0,
      "outputs": []
    },
    {
      "cell_type": "code",
      "metadata": {
        "id": "dRGFt0U5qDg-",
        "colab_type": "code",
        "colab": {
          "base_uri": "https://localhost:8080/",
          "height": 35
        },
        "outputId": "3ec0e491-edff-4794-fa92-92bb1a400b2b"
      },
      "source": [
        "mean_absolute_error(val_y_ln, model.predict(val_X))"
      ],
      "execution_count": 33,
      "outputs": [
        {
          "output_type": "execute_result",
          "data": {
            "text/plain": [
              "0.19577667051816913"
            ]
          },
          "metadata": {
            "tags": []
          },
          "execution_count": 33
        }
      ]
    },
    {
      "cell_type": "markdown",
      "metadata": {
        "id": "XMWnL9iUsiqO",
        "colab_type": "text"
      },
      "source": [
        "4.4.2-4 绘制学习率曲线与验证曲线"
      ]
    },
    {
      "cell_type": "code",
      "metadata": {
        "id": "LXrD63sIqFzb",
        "colab_type": "code",
        "colab": {}
      },
      "source": [
        "from sklearn.model_selection import learning_curve, validation_curve"
      ],
      "execution_count": 0,
      "outputs": []
    },
    {
      "cell_type": "code",
      "metadata": {
        "id": "Xmw8ipvRqHiL",
        "colab_type": "code",
        "colab": {}
      },
      "source": [
        "? learning_curve#？表示帮助"
      ],
      "execution_count": 0,
      "outputs": []
    },
    {
      "cell_type": "code",
      "metadata": {
        "id": "TzqT5QhhqLvn",
        "colab_type": "code",
        "colab": {}
      },
      "source": [
        "def plot_learning_curve(estimator, title, X, y, ylim=None, cv=None,n_jobs=1, train_size=np.linspace(.1, 1.0, 5 )):  \n",
        "    plt.figure()  \n",
        "    plt.title(title)  \n",
        "    if ylim is not None:  \n",
        "        plt.ylim(*ylim)  \n",
        "    plt.xlabel('Training example')  \n",
        "    plt.ylabel('score')  \n",
        "    train_sizes, train_scores, test_scores = learning_curve(estimator, X, y, cv=cv, n_jobs=n_jobs, train_sizes=train_size, scoring = make_scorer(mean_absolute_error))  \n",
        "    train_scores_mean = np.mean(train_scores, axis=1)  \n",
        "    train_scores_std = np.std(train_scores, axis=1)  \n",
        "    test_scores_mean = np.mean(test_scores, axis=1)  \n",
        "    test_scores_std = np.std(test_scores, axis=1)  \n",
        "    plt.grid()#区域  \n",
        "    plt.fill_between(train_sizes, train_scores_mean - train_scores_std,  \n",
        "                     train_scores_mean + train_scores_std, alpha=0.1,  \n",
        "                     color=\"r\")  \n",
        "    plt.fill_between(train_sizes, test_scores_mean - test_scores_std,  \n",
        "                     test_scores_mean + test_scores_std, alpha=0.1,  \n",
        "                     color=\"g\")  \n",
        "    plt.plot(train_sizes, train_scores_mean, 'o-', color='r',  \n",
        "             label=\"Training score\")  \n",
        "    plt.plot(train_sizes, test_scores_mean,'o-',color=\"g\",  \n",
        "             label=\"Cross-validation score\")  \n",
        "    plt.legend(loc=\"best\")  \n",
        "    return plt  "
      ],
      "execution_count": 0,
      "outputs": []
    },
    {
      "cell_type": "code",
      "metadata": {
        "id": "gw6io-pxqN4f",
        "colab_type": "code",
        "colab": {
          "base_uri": "https://localhost:8080/",
          "height": 333
        },
        "outputId": "4ad07221-4714-43ed-c4b9-f7f09fa4853b"
      },
      "source": [
        "plot_learning_curve(LinearRegression(), 'Liner_model', train_X[:1000], train_y_ln[:1000], ylim=(0.0, 0.5), cv=5, n_jobs=1)  "
      ],
      "execution_count": 39,
      "outputs": [
        {
          "output_type": "execute_result",
          "data": {
            "text/plain": [
              "<module 'matplotlib.pyplot' from '/usr/local/lib/python3.6/dist-packages/matplotlib/pyplot.py'>"
            ]
          },
          "metadata": {
            "tags": []
          },
          "execution_count": 39
        },
        {
          "output_type": "display_data",
          "data": {
            "image/png": "[encoded data removed]",
            "text/plain": [
              "<Figure size 432x288 with 1 Axes>"
            ]
          },
          "metadata": {
            "tags": []
          }
        }
      ]
    },
    {
      "cell_type": "markdown",
      "metadata": {
        "id": "MjIv3Ok7twFX",
        "colab_type": "text"
      },
      "source": [
        "###4.4.3 多种模型对比"
      ]
    },
    {
      "cell_type": "code",
      "metadata": {
        "id": "-KuXKJ0LqQqZ",
        "colab_type": "code",
        "colab": {}
      },
      "source": [
        "train = sample_feature[continuous_feature_names + ['price']].dropna()\n",
        "\n",
        "train_X = train[continuous_feature_names]\n",
        "train_y = train['price']\n",
        "train_y_ln = np.log(train_y + 1)"
      ],
      "execution_count": 0,
      "outputs": []
    },
    {
      "cell_type": "markdown",
      "metadata": {
        "id": "5GVUQWN7uCll",
        "colab_type": "text"
      },
      "source": [
        "4.4.3-1线性模型&嵌入式特征选择\n",
        "本章节默认，读者已经了解过拟合、模型复杂度、正则化等概念。相关资料参考如下链接：\n",
        "[过拟合](https://www.zhihu.com/question/32246256/answer/55320482)\n",
        "[泛化](http://yangyingming.com/article/434/)\n",
        "[正则化](https://blog.csdn.net/jinping_shi/article/details/52433975)\n",
        "在过滤式和包裹式特征选择方法中，特征选择过程与学习器训练过程有明显的分别。而嵌入式特征选择在学习器训练过程中自动的进行特征选择。嵌入式选择最常用的是L1正则化与L2正则化。在对线性回归模型加入两种正则化方法后，他们分别变成了岭回归和Lasso回归。"
      ]
    },
    {
      "cell_type": "code",
      "metadata": {
        "id": "q6a8k4V6qU51",
        "colab_type": "code",
        "colab": {}
      },
      "source": [
        "from sklearn.linear_model import LinearRegression\n",
        "from sklearn.linear_model import Ridge\n",
        "from sklearn.linear_model import Lasso"
      ],
      "execution_count": 0,
      "outputs": []
    },
    {
      "cell_type": "code",
      "metadata": {
        "id": "LgYP3-SnqWu5",
        "colab_type": "code",
        "colab": {}
      },
      "source": [
        "models = [LinearRegression(),\n",
        "          Ridge(),\n",
        "          Lasso()]"
      ],
      "execution_count": 0,
      "outputs": []
    },
    {
      "cell_type": "code",
      "metadata": {
        "id": "2uVbYxH3qZIC",
        "colab_type": "code",
        "colab": {
          "base_uri": "https://localhost:8080/",
          "height": 71
        },
        "outputId": "e0121326-f9e5-4dd8-eaab-721177f57506"
      },
      "source": [
        "result = dict()\n",
        "for model in models:\n",
        "    model_name = str(model).split('(')[0]\n",
        "    scores = cross_val_score(model, X=train_X, y=train_y_ln, verbose=0, cv = 5, scoring=make_scorer(mean_absolute_error))\n",
        "    result[model_name] = scores\n",
        "    print(model_name + ' is finished')"
      ],
      "execution_count": 44,
      "outputs": [
        {
          "output_type": "stream",
          "text": [
            "LinearRegression is finished\n",
            "Ridge is finished\n",
            "Lasso is finished\n"
          ],
          "name": "stdout"
        }
      ]
    },
    {
      "cell_type": "code",
      "metadata": {
        "id": "jbqWbV50qfV7",
        "colab_type": "code",
        "colab": {
          "base_uri": "https://localhost:8080/",
          "height": 204
        },
        "outputId": "7eeda66f-7d89-4a83-c107-89d90c60a661"
      },
      "source": [
        "result = pd.DataFrame(result)\n",
        "result.index = ['cv' + str(x) for x in range(1, 6)]\n",
        "result"
      ],
      "execution_count": 45,
      "outputs": [
        {
          "output_type": "execute_result",
          "data": {
            "text/html": [
              "<div>\n",
              "<style scoped>\n",
              "    .dataframe tbody tr th:only-of-type {\n",
              "        vertical-align: middle;\n",
              "    }\n",
              "\n",
              "    .dataframe tbody tr th {\n",
              "        vertical-align: top;\n",
              "    }\n",
              "\n",
              "    .dataframe thead th {\n",
              "        text-align: right;\n",
              "    }\n",
              "</style>\n",
              "<table border=\"1\" class=\"dataframe\">\n",
              "  <thead>\n",
              "    <tr style=\"text-align: right;\">\n",
              "      <th></th>\n",
              "      <th>LinearRegression</th>\n",
              "      <th>Ridge</th>\n",
              "      <th>Lasso</th>\n",
              "    </tr>\n",
              "  </thead>\n",
              "  <tbody>\n",
              "    <tr>\n",
              "      <th>cv1</th>\n",
              "      <td>0.190792</td>\n",
              "      <td>0.194832</td>\n",
              "      <td>0.383899</td>\n",
              "    </tr>\n",
              "    <tr>\n",
              "      <th>cv2</th>\n",
              "      <td>0.193758</td>\n",
              "      <td>0.197632</td>\n",
              "      <td>0.381893</td>\n",
              "    </tr>\n",
              "    <tr>\n",
              "      <th>cv3</th>\n",
              "      <td>0.194132</td>\n",
              "      <td>0.198123</td>\n",
              "      <td>0.384090</td>\n",
              "    </tr>\n",
              "    <tr>\n",
              "      <th>cv4</th>\n",
              "      <td>0.191825</td>\n",
              "      <td>0.195670</td>\n",
              "      <td>0.380526</td>\n",
              "    </tr>\n",
              "    <tr>\n",
              "      <th>cv5</th>\n",
              "      <td>0.195758</td>\n",
              "      <td>0.199676</td>\n",
              "      <td>0.383611</td>\n",
              "    </tr>\n",
              "  </tbody>\n",
              "</table>\n",
              "</div>"
            ],
            "text/plain": [
              "     LinearRegression     Ridge     Lasso\n",
              "cv1          0.190792  0.194832  0.383899\n",
              "cv2          0.193758  0.197632  0.381893\n",
              "cv3          0.194132  0.198123  0.384090\n",
              "cv4          0.191825  0.195670  0.380526\n",
              "cv5          0.195758  0.199676  0.383611"
            ]
          },
          "metadata": {
            "tags": []
          },
          "execution_count": 45
        }
      ]
    },
    {
      "cell_type": "code",
      "metadata": {
        "id": "UF7vOP6qqjtt",
        "colab_type": "code",
        "colab": {
          "base_uri": "https://localhost:8080/",
          "height": 302
        },
        "outputId": "a228ef3a-e58c-4078-c9ba-532129a28384"
      },
      "source": [
        "model = LinearRegression().fit(train_X, train_y_ln)\n",
        "print('intercept:'+ str(model.intercept_))\n",
        "sns.barplot(abs(model.coef_), continuous_feature_names)"
      ],
      "execution_count": 46,
      "outputs": [
        {
          "output_type": "stream",
          "text": [
            "intercept:18.750745407695362\n"
          ],
          "name": "stdout"
        },
        {
          "output_type": "execute_result",
          "data": {
            "text/plain": [
              "<matplotlib.axes._subplots.AxesSubplot at 0x7fb69e662b00>"
            ]
          },
          "metadata": {
            "tags": []
          },
          "execution_count": 46
        },
        {
          "output_type": "display_data",
          "data": {
            "image/png": "[encoded data removed]",
            "text/plain": [
              "<Figure size 432x288 with 1 Axes>"
            ]
          },
          "metadata": {
            "tags": []
          }
        }
      ]
    },
    {
      "cell_type": "markdown",
      "metadata": {
        "id": "7Ud1LbKdwIW1",
        "colab_type": "text"
      },
      "source": [
        "L2正则化在拟合过程中通常都倾向于让权值尽可能小，最后构造一个所有参数都比较小的模型。因为一般认为参数值小的模型比较简单，能适应不同的数据集，也在一定程度上避免了过拟合现象。可以设想一下对一个线性回归方程，若参数很大，那么只要数据偏移一点点，就会对结果造成很大的影响；但如果参数足够小，数据偏移的多一点也不会对结果造成什么影响，专业一点的说法就是【抗干扰能强】"
      ]
    },
    {
      "cell_type": "code",
      "metadata": {
        "id": "w87nm9HMqoRK",
        "colab_type": "code",
        "colab": {
          "base_uri": "https://localhost:8080/",
          "height": 302
        },
        "outputId": "b481ebf6-ee0b-406c-c3ec-1a2459e7a105"
      },
      "source": [
        "model = Ridge().fit(train_X, train_y_ln)\n",
        "print('intercept:'+ str(model.intercept_))\n",
        "sns.barplot(abs(model.coef_), continuous_feature_names)"
      ],
      "execution_count": 47,
      "outputs": [
        {
          "output_type": "stream",
          "text": [
            "intercept:4.671710782356053\n"
          ],
          "name": "stdout"
        },
        {
          "output_type": "execute_result",
          "data": {
            "text/plain": [
              "<matplotlib.axes._subplots.AxesSubplot at 0x7fb69e4dada0>"
            ]
          },
          "metadata": {
            "tags": []
          },
          "execution_count": 47
        },
        {
          "output_type": "display_data",
          "data": {
            "image/png": "[encoded data removed]",
            "text/plain": [
              "<Figure size 432x288 with 1 Axes>"
            ]
          },
          "metadata": {
            "tags": []
          }
        }
      ]
    },
    {
      "cell_type": "markdown",
      "metadata": {
        "id": "IMBvvRj3xHAJ",
        "colab_type": "text"
      },
      "source": [
        "L1正则化有助于生成一个稀疏权值矩阵，进而可以用于特征选择。如下图，我们发现power与userd_time特征非常重要。"
      ]
    },
    {
      "cell_type": "code",
      "metadata": {
        "id": "4Ybj6w0Wqq7J",
        "colab_type": "code",
        "colab": {
          "base_uri": "https://localhost:8080/",
          "height": 302
        },
        "outputId": "51c12148-196c-48d7-dd25-2913d98be3c5"
      },
      "source": [
        "model = Lasso().fit(train_X, train_y_ln)\n",
        "print('intercept:'+ str(model.intercept_))\n",
        "sns.barplot(abs(model.coef_), continuous_feature_names)"
      ],
      "execution_count": 48,
      "outputs": [
        {
          "output_type": "stream",
          "text": [
            "intercept:8.672182455737993\n"
          ],
          "name": "stdout"
        },
        {
          "output_type": "execute_result",
          "data": {
            "text/plain": [
              "<matplotlib.axes._subplots.AxesSubplot at 0x7fb6a107b780>"
            ]
          },
          "metadata": {
            "tags": []
          },
          "execution_count": 48
        },
        {
          "output_type": "display_data",
          "data": {
            "image/png": "[encoded data removed]",
            "text/plain": [
              "<Figure size 432x288 with 1 Axes>"
            ]
          },
          "metadata": {
            "tags": []
          }
        }
      ]
    },
    {
      "cell_type": "markdown",
      "metadata": {
        "id": "yiwi6_U7ximE",
        "colab_type": "text"
      },
      "source": [
        "除此之外，决策树通过信息熵或GINI指数选择分裂节点时，优先选择的分裂特征也更加重要，这同样是一种特征选择的方法。XGBoost与LightGBM模型中的model_importance指标正是基于此计算的。\n",
        "####4.4.3-2非线性模型\n",
        "除了线性模型外，还有许多我们常用的非线性模型如下，在此，选择部分常用模型与线性模型进行效果对比。"
      ]
    },
    {
      "cell_type": "code",
      "metadata": {
        "id": "SqjNPI4Cqt1U",
        "colab_type": "code",
        "colab": {}
      },
      "source": [
        "from sklearn.linear_model import LinearRegression\n",
        "from sklearn.svm import SVC\n",
        "from sklearn.tree import DecisionTreeRegressor\n",
        "from sklearn.ensemble import RandomForestRegressor\n",
        "from sklearn.ensemble import GradientBoostingRegressor\n",
        "from sklearn.neural_network import MLPRegressor\n",
        "from xgboost.sklearn import XGBRegressor\n",
        "from lightgbm.sklearn import LGBMRegressor"
      ],
      "execution_count": 0,
      "outputs": []
    },
    {
      "cell_type": "code",
      "metadata": {
        "id": "TVEuQXdqqv9E",
        "colab_type": "code",
        "colab": {}
      },
      "source": [
        "models = [LinearRegression(),\n",
        "          DecisionTreeRegressor(),\n",
        "          RandomForestRegressor(),\n",
        "          GradientBoostingRegressor(),\n",
        "          MLPRegressor(solver='lbfgs', max_iter=100), \n",
        "          XGBRegressor(n_estimators = 100, objective='reg:squarederror'), \n",
        "          LGBMRegressor(n_estimators = 100)]"
      ],
      "execution_count": 0,
      "outputs": []
    },
    {
      "cell_type": "code",
      "metadata": {
        "id": "RgzvSv5sqyDj",
        "colab_type": "code",
        "colab": {
          "base_uri": "https://localhost:8080/",
          "height": 143
        },
        "outputId": "68e09ba0-756b-4639-d4bf-744a6fb87ba5"
      },
      "source": [
        "result = dict()\n",
        "for model in models:\n",
        "    model_name = str(model).split('(')[0]\n",
        "    scores = cross_val_score(model, X=train_X, y=train_y_ln, verbose=0, cv = 5, scoring=make_scorer(mean_absolute_error))\n",
        "    result[model_name] = scores\n",
        "    print(model_name + ' is finished')"
      ],
      "execution_count": 52,
      "outputs": [
        {
          "output_type": "stream",
          "text": [
            "LinearRegression is finished\n",
            "DecisionTreeRegressor is finished\n",
            "RandomForestRegressor is finished\n",
            "GradientBoostingRegressor is finished\n",
            "MLPRegressor is finished\n",
            "XGBRegressor is finished\n",
            "LGBMRegressor is finished\n"
          ],
          "name": "stdout"
        }
      ]
    },
    {
      "cell_type": "code",
      "metadata": {
        "id": "POj_hA0pq0Z8",
        "colab_type": "code",
        "colab": {
          "base_uri": "https://localhost:8080/",
          "height": 224
        },
        "outputId": "bfa0ca12-a6d6-4e1e-c8bf-a655663923a3"
      },
      "source": [
        "result = pd.DataFrame(result)\n",
        "result.index = ['cv' + str(x) for x in range(1, 6)]\n",
        "result"
      ],
      "execution_count": 53,
      "outputs": [
        {
          "output_type": "execute_result",
          "data": {
            "text/html": [
              "<div>\n",
              "<style scoped>\n",
              "    .dataframe tbody tr th:only-of-type {\n",
              "        vertical-align: middle;\n",
              "    }\n",
              "\n",
              "    .dataframe tbody tr th {\n",
              "        vertical-align: top;\n",
              "    }\n",
              "\n",
              "    .dataframe thead th {\n",
              "        text-align: right;\n",
              "    }\n",
              "</style>\n",
              "<table border=\"1\" class=\"dataframe\">\n",
              "  <thead>\n",
              "    <tr style=\"text-align: right;\">\n",
              "      <th></th>\n",
              "      <th>LinearRegression</th>\n",
              "      <th>DecisionTreeRegressor</th>\n",
              "      <th>RandomForestRegressor</th>\n",
              "      <th>GradientBoostingRegressor</th>\n",
              "      <th>MLPRegressor</th>\n",
              "      <th>XGBRegressor</th>\n",
              "      <th>LGBMRegressor</th>\n",
              "    </tr>\n",
              "  </thead>\n",
              "  <tbody>\n",
              "    <tr>\n",
              "      <th>cv1</th>\n",
              "      <td>0.190792</td>\n",
              "      <td>0.200636</td>\n",
              "      <td>0.132746</td>\n",
              "      <td>0.168900</td>\n",
              "      <td>462.156857</td>\n",
              "      <td>0.169990</td>\n",
              "      <td>0.141544</td>\n",
              "    </tr>\n",
              "    <tr>\n",
              "      <th>cv2</th>\n",
              "      <td>0.193758</td>\n",
              "      <td>0.192194</td>\n",
              "      <td>0.134422</td>\n",
              "      <td>0.171831</td>\n",
              "      <td>403.558654</td>\n",
              "      <td>0.171826</td>\n",
              "      <td>0.145501</td>\n",
              "    </tr>\n",
              "    <tr>\n",
              "      <th>cv3</th>\n",
              "      <td>0.194132</td>\n",
              "      <td>0.189167</td>\n",
              "      <td>0.133278</td>\n",
              "      <td>0.170900</td>\n",
              "      <td>408.517769</td>\n",
              "      <td>0.172123</td>\n",
              "      <td>0.143887</td>\n",
              "    </tr>\n",
              "    <tr>\n",
              "      <th>cv4</th>\n",
              "      <td>0.191825</td>\n",
              "      <td>0.190679</td>\n",
              "      <td>0.132494</td>\n",
              "      <td>0.169076</td>\n",
              "      <td>154.013002</td>\n",
              "      <td>0.169635</td>\n",
              "      <td>0.142497</td>\n",
              "    </tr>\n",
              "    <tr>\n",
              "      <th>cv5</th>\n",
              "      <td>0.195758</td>\n",
              "      <td>0.204235</td>\n",
              "      <td>0.137398</td>\n",
              "      <td>0.174088</td>\n",
              "      <td>365.111787</td>\n",
              "      <td>0.172824</td>\n",
              "      <td>0.144852</td>\n",
              "    </tr>\n",
              "  </tbody>\n",
              "</table>\n",
              "</div>"
            ],
            "text/plain": [
              "     LinearRegression  DecisionTreeRegressor  ...  XGBRegressor  LGBMRegressor\n",
              "cv1          0.190792               0.200636  ...      0.169990       0.141544\n",
              "cv2          0.193758               0.192194  ...      0.171826       0.145501\n",
              "cv3          0.194132               0.189167  ...      0.172123       0.143887\n",
              "cv4          0.191825               0.190679  ...      0.169635       0.142497\n",
              "cv5          0.195758               0.204235  ...      0.172824       0.144852\n",
              "\n",
              "[5 rows x 7 columns]"
            ]
          },
          "metadata": {
            "tags": []
          },
          "execution_count": 53
        }
      ]
    },
    {
      "cell_type": "markdown",
      "metadata": {
        "id": "VuSBbPFyANtB",
        "colab_type": "text"
      },
      "source": [
        "可以看到随机森林模型在每一个fold中均取得了更好的效果\n",
        "###4.4.4模型调参\n",
        "在此介绍三种常用的调参方法如下：\n",
        "[贪心算法](https://www.jianshu.com/p/ab89df9759c8)\n",
        "[网格调参]( https://blog.csdn.net/weixin_43172660/article/details/83032029)\n",
        "[贝叶斯调参](https://blog.csdn.net/linxid/article/details/81189154)"
      ]
    },
    {
      "cell_type": "code",
      "metadata": {
        "id": "jPAZZbicq4HE",
        "colab_type": "code",
        "colab": {}
      },
      "source": [
        "## LGB的参数集合：\n",
        "\n",
        "objective = ['regression', 'regression_l1', 'mape', 'huber', 'fair']\n",
        "\n",
        "num_leaves = [3,5,10,15,20,40, 55]\n",
        "max_depth = [3,5,10,15,20,40, 55]\n",
        "bagging_fraction = []\n",
        "feature_fraction = []\n",
        "drop_rate = []"
      ],
      "execution_count": 0,
      "outputs": []
    },
    {
      "cell_type": "markdown",
      "metadata": {
        "id": "CppYK6B3BEyW",
        "colab_type": "text"
      },
      "source": [
        "####4.4.4-1贪心调参"
      ]
    },
    {
      "cell_type": "code",
      "metadata": {
        "id": "vxE4UmdAq7p6",
        "colab_type": "code",
        "colab": {}
      },
      "source": [
        "best_obj = dict()\n",
        "for obj in objective:\n",
        "    model = LGBMRegressor(objective=obj)\n",
        "    score = np.mean(cross_val_score(model, X=train_X, y=train_y_ln, verbose=0, cv = 5, scoring=make_scorer(mean_absolute_error)))\n",
        "    best_obj[obj] = score\n",
        "    \n",
        "best_leaves = dict()\n",
        "for leaves in num_leaves:\n",
        "    model = LGBMRegressor(objective=min(best_obj.items(), key=lambda x:x[1])[0], num_leaves=leaves)\n",
        "    score = np.mean(cross_val_score(model, X=train_X, y=train_y_ln, verbose=0, cv = 5, scoring=make_scorer(mean_absolute_error)))\n",
        "    best_leaves[leaves] = score\n",
        "    \n",
        "best_depth = dict()\n",
        "for depth in max_depth:\n",
        "    model = LGBMRegressor(objective=min(best_obj.items(), key=lambda x:x[1])[0],\n",
        "                          num_leaves=min(best_leaves.items(), key=lambda x:x[1])[0],\n",
        "                          max_depth=depth)\n",
        "    score = np.mean(cross_val_score(model, X=train_X, y=train_y_ln, verbose=0, cv = 5, scoring=make_scorer(mean_absolute_error)))\n",
        "    best_depth[depth] = score"
      ],
      "execution_count": 0,
      "outputs": []
    },
    {
      "cell_type": "code",
      "metadata": {
        "id": "2Lv4Ys3iq9_Y",
        "colab_type": "code",
        "colab": {
          "base_uri": "https://localhost:8080/",
          "height": 284
        },
        "outputId": "c9c4edcf-58ce-4d71-c63b-776f668d2df2"
      },
      "source": [
        "sns.lineplot(x=['0_initial','1_turning_obj','2_turning_leaves','3_turning_depth'], y=[0.143 ,min(best_obj.values()), min(best_leaves.values()), min(best_depth.values())])"
      ],
      "execution_count": 57,
      "outputs": [
        {
          "output_type": "execute_result",
          "data": {
            "text/plain": [
              "<matplotlib.axes._subplots.AxesSubplot at 0x7fb69340c048>"
            ]
          },
          "metadata": {
            "tags": []
          },
          "execution_count": 57
        },
        {
          "output_type": "display_data",
          "data": {
            "image/png": "[encoded data removed]",
            "text/plain": [
              "<Figure size 432x288 with 1 Axes>"
            ]
          },
          "metadata": {
            "tags": []
          }
        }
      ]
    },
    {
      "cell_type": "markdown",
      "metadata": {
        "id": "NjDrZ5uHCaj-",
        "colab_type": "text"
      },
      "source": [
        "####4.4.4-2 Grid Search 调参"
      ]
    },
    {
      "cell_type": "code",
      "metadata": {
        "id": "sT8oP9BerAMV",
        "colab_type": "code",
        "colab": {}
      },
      "source": [
        "from sklearn.model_selection import GridSearchCV"
      ],
      "execution_count": 0,
      "outputs": []
    },
    {
      "cell_type": "code",
      "metadata": {
        "id": "nScV5IlKrB7C",
        "colab_type": "code",
        "colab": {}
      },
      "source": [
        "parameters = {'objective': objective , 'num_leaves': num_leaves, 'max_depth': max_depth}\n",
        "model = LGBMRegressor()\n",
        "clf = GridSearchCV(model, parameters, cv=5)\n",
        "clf = clf.fit(train_X, train_y)"
      ],
      "execution_count": 0,
      "outputs": []
    },
    {
      "cell_type": "code",
      "metadata": {
        "id": "IVe_fPSvrEJl",
        "colab_type": "code",
        "colab": {
          "base_uri": "https://localhost:8080/",
          "height": 35
        },
        "outputId": "5ff8b1d6-4a1c-49b4-dfd3-1ef03cdb4b85"
      },
      "source": [
        "clf.best_params_"
      ],
      "execution_count": 60,
      "outputs": [
        {
          "output_type": "execute_result",
          "data": {
            "text/plain": [
              "{'max_depth': 15, 'num_leaves': 55, 'objective': 'regression'}"
            ]
          },
          "metadata": {
            "tags": []
          },
          "execution_count": 60
        }
      ]
    },
    {
      "cell_type": "code",
      "metadata": {
        "id": "TlrmLbf-rFsz",
        "colab_type": "code",
        "colab": {}
      },
      "source": [
        "model = LGBMRegressor(objective='regression',\n",
        "                          num_leaves=55,\n",
        "                          max_depth=15)"
      ],
      "execution_count": 0,
      "outputs": []
    },
    {
      "cell_type": "code",
      "metadata": {
        "id": "DXJLVwbtrIBy",
        "colab_type": "code",
        "colab": {
          "base_uri": "https://localhost:8080/",
          "height": 35
        },
        "outputId": "51c30f7e-fcda-4765-aa64-c56f1422f5b5"
      },
      "source": [
        "np.mean(cross_val_score(model, X=train_X, y=train_y_ln, verbose=0, cv = 5, scoring=make_scorer(mean_absolute_error)))"
      ],
      "execution_count": 63,
      "outputs": [
        {
          "output_type": "execute_result",
          "data": {
            "text/plain": [
              "0.137548329347744"
            ]
          },
          "metadata": {
            "tags": []
          },
          "execution_count": 63
        }
      ]
    },
    {
      "cell_type": "markdown",
      "metadata": {
        "id": "5znJNiiAON4z",
        "colab_type": "text"
      },
      "source": [
        "####4.4.4-3贝叶斯调参"
      ]
    },
    {
      "cell_type": "code",
      "metadata": {
        "id": "QTki-tqPO1xR",
        "colab_type": "code",
        "colab": {}
      },
      "source": [
        "!pip install bayesian-optimization"
      ],
      "execution_count": 0,
      "outputs": []
    },
    {
      "cell_type": "markdown",
      "metadata": {
        "id": "6ncrbmJeQj07",
        "colab_type": "text"
      },
      "source": [
        "上面的安装是必要的，安装bayes_opt"
      ]
    },
    {
      "cell_type": "code",
      "metadata": {
        "id": "i11dWR_yrKbZ",
        "colab_type": "code",
        "colab": {}
      },
      "source": [
        "from bayes_opt import BayesianOptimization"
      ],
      "execution_count": 0,
      "outputs": []
    },
    {
      "cell_type": "code",
      "metadata": {
        "id": "cEql_BnVrMT0",
        "colab_type": "code",
        "colab": {}
      },
      "source": [
        "def rf_cv(num_leaves, max_depth, subsample, min_child_samples):\n",
        "    val = cross_val_score(\n",
        "        LGBMRegressor(objective = 'regression_l1',\n",
        "            num_leaves=int(num_leaves),\n",
        "            max_depth=int(max_depth),\n",
        "            subsample = subsample,\n",
        "            min_child_samples = int(min_child_samples)\n",
        "        ),\n",
        "        X=train_X, y=train_y_ln, verbose=0, cv = 5, scoring=make_scorer(mean_absolute_error)\n",
        "    ).mean()\n",
        "    return 1 - val"
      ],
      "execution_count": 0,
      "outputs": []
    },
    {
      "cell_type": "code",
      "metadata": {
        "id": "9f5X3X9WrOq0",
        "colab_type": "code",
        "colab": {}
      },
      "source": [
        "rf_bo = BayesianOptimization(\n",
        "    rf_cv,\n",
        "    {\n",
        "    'num_leaves': (2, 100),\n",
        "    'max_depth': (2, 100),\n",
        "    'subsample': (0.1, 1),\n",
        "    'min_child_samples' : (2, 100)\n",
        "    }\n",
        ")"
      ],
      "execution_count": 0,
      "outputs": []
    },
    {
      "cell_type": "code",
      "metadata": {
        "id": "OhZokCO8rRCR",
        "colab_type": "code",
        "colab": {
          "base_uri": "https://localhost:8080/",
          "height": 611
        },
        "outputId": "b0ec55fe-c6be-4ed2-907c-56e76113b9b6"
      },
      "source": [
        "rf_bo.maximize()"
      ],
      "execution_count": 72,
      "outputs": [
        {
          "output_type": "stream",
          "text": [
            "|   iter    |  target   | max_depth | min_ch... | num_le... | subsample |\n",
            "-------------------------------------------------------------------------\n",
            "| \u001b[0m 1       \u001b[0m | \u001b[0m 0.8535  \u001b[0m | \u001b[0m 87.2    \u001b[0m | \u001b[0m 82.07   \u001b[0m | \u001b[0m 23.78   \u001b[0m | \u001b[0m 0.7435  \u001b[0m |\n",
            "| \u001b[0m 2       \u001b[0m | \u001b[0m 0.8371  \u001b[0m | \u001b[0m 53.41   \u001b[0m | \u001b[0m 78.34   \u001b[0m | \u001b[0m 9.26    \u001b[0m | \u001b[0m 0.4567  \u001b[0m |\n",
            "| \u001b[95m 3       \u001b[0m | \u001b[95m 0.8677  \u001b[0m | \u001b[95m 93.01   \u001b[0m | \u001b[95m 98.0    \u001b[0m | \u001b[95m 78.62   \u001b[0m | \u001b[95m 0.9096  \u001b[0m |\n",
            "| \u001b[0m 4       \u001b[0m | \u001b[0m 0.8669  \u001b[0m | \u001b[0m 73.1    \u001b[0m | \u001b[0m 88.32   \u001b[0m | \u001b[0m 71.75   \u001b[0m | \u001b[0m 0.1614  \u001b[0m |\n",
            "| \u001b[0m 5       \u001b[0m | \u001b[0m 0.8586  \u001b[0m | \u001b[0m 55.43   \u001b[0m | \u001b[0m 44.19   \u001b[0m | \u001b[0m 33.74   \u001b[0m | \u001b[0m 0.814   \u001b[0m |\n",
            "| \u001b[95m 6       \u001b[0m | \u001b[95m 0.869   \u001b[0m | \u001b[95m 98.97   \u001b[0m | \u001b[95m 3.54    \u001b[0m | \u001b[95m 99.76   \u001b[0m | \u001b[95m 0.886   \u001b[0m |\n",
            "| \u001b[0m 7       \u001b[0m | \u001b[0m 0.8063  \u001b[0m | \u001b[0m 2.792   \u001b[0m | \u001b[0m 4.668   \u001b[0m | \u001b[0m 96.98   \u001b[0m | \u001b[0m 0.9239  \u001b[0m |\n",
            "| \u001b[0m 8       \u001b[0m | \u001b[0m 0.8204  \u001b[0m | \u001b[0m 98.2    \u001b[0m | \u001b[0m 2.316   \u001b[0m | \u001b[0m 5.322   \u001b[0m | \u001b[0m 0.2259  \u001b[0m |\n",
            "| \u001b[95m 9       \u001b[0m | \u001b[95m 0.8693  \u001b[0m | \u001b[95m 99.91   \u001b[0m | \u001b[95m 58.22   \u001b[0m | \u001b[95m 98.47   \u001b[0m | \u001b[95m 0.4484  \u001b[0m |\n",
            "| \u001b[0m 10      \u001b[0m | \u001b[0m 0.8676  \u001b[0m | \u001b[0m 93.09   \u001b[0m | \u001b[0m 95.78   \u001b[0m | \u001b[0m 81.76   \u001b[0m | \u001b[0m 0.8446  \u001b[0m |\n",
            "| \u001b[0m 11      \u001b[0m | \u001b[0m 0.866   \u001b[0m | \u001b[0m 99.08   \u001b[0m | \u001b[0m 32.03   \u001b[0m | \u001b[0m 66.95   \u001b[0m | \u001b[0m 0.8451  \u001b[0m |\n",
            "| \u001b[95m 12      \u001b[0m | \u001b[95m 0.8695  \u001b[0m | \u001b[95m 72.95   \u001b[0m | \u001b[95m 26.04   \u001b[0m | \u001b[95m 99.43   \u001b[0m | \u001b[95m 0.9275  \u001b[0m |\n",
            "| \u001b[0m 13      \u001b[0m | \u001b[0m 0.8676  \u001b[0m | \u001b[0m 66.69   \u001b[0m | \u001b[0m 2.662   \u001b[0m | \u001b[0m 77.65   \u001b[0m | \u001b[0m 0.2198  \u001b[0m |\n",
            "| \u001b[0m 14      \u001b[0m | \u001b[0m 0.867   \u001b[0m | \u001b[0m 82.9    \u001b[0m | \u001b[0m 54.26   \u001b[0m | \u001b[0m 73.7    \u001b[0m | \u001b[0m 0.9884  \u001b[0m |\n",
            "| \u001b[0m 15      \u001b[0m | \u001b[0m 0.8692  \u001b[0m | \u001b[0m 70.26   \u001b[0m | \u001b[0m 99.69   \u001b[0m | \u001b[0m 99.28   \u001b[0m | \u001b[0m 0.3964  \u001b[0m |\n",
            "| \u001b[0m 16      \u001b[0m | \u001b[0m 0.8694  \u001b[0m | \u001b[0m 94.31   \u001b[0m | \u001b[0m 92.07   \u001b[0m | \u001b[0m 98.86   \u001b[0m | \u001b[0m 0.2334  \u001b[0m |\n",
            "| \u001b[0m 17      \u001b[0m | \u001b[0m 0.8687  \u001b[0m | \u001b[0m 90.01   \u001b[0m | \u001b[0m 27.43   \u001b[0m | \u001b[0m 94.08   \u001b[0m | \u001b[0m 0.1489  \u001b[0m |\n",
            "| \u001b[0m 18      \u001b[0m | \u001b[0m 0.8692  \u001b[0m | \u001b[0m 97.84   \u001b[0m | \u001b[0m 99.66   \u001b[0m | \u001b[0m 99.83   \u001b[0m | \u001b[0m 0.6343  \u001b[0m |\n",
            "| \u001b[0m 19      \u001b[0m | \u001b[0m 0.8688  \u001b[0m | \u001b[0m 79.15   \u001b[0m | \u001b[0m 72.68   \u001b[0m | \u001b[0m 98.59   \u001b[0m | \u001b[0m 0.9589  \u001b[0m |\n",
            "| \u001b[0m 20      \u001b[0m | \u001b[0m 0.869   \u001b[0m | \u001b[0m 73.95   \u001b[0m | \u001b[0m 3.153   \u001b[0m | \u001b[0m 99.49   \u001b[0m | \u001b[0m 0.9981  \u001b[0m |\n",
            "| \u001b[0m 21      \u001b[0m | \u001b[0m 0.8683  \u001b[0m | \u001b[0m 83.93   \u001b[0m | \u001b[0m 14.11   \u001b[0m | \u001b[0m 87.22   \u001b[0m | \u001b[0m 0.979   \u001b[0m |\n",
            "| \u001b[0m 22      \u001b[0m | \u001b[0m 0.8692  \u001b[0m | \u001b[0m 81.91   \u001b[0m | \u001b[0m 13.63   \u001b[0m | \u001b[0m 99.74   \u001b[0m | \u001b[0m 0.1826  \u001b[0m |\n",
            "| \u001b[0m 23      \u001b[0m | \u001b[0m 0.8691  \u001b[0m | \u001b[0m 38.59   \u001b[0m | \u001b[0m 99.9    \u001b[0m | \u001b[0m 98.75   \u001b[0m | \u001b[0m 0.8042  \u001b[0m |\n",
            "| \u001b[0m 24      \u001b[0m | \u001b[0m 0.8062  \u001b[0m | \u001b[0m 2.813   \u001b[0m | \u001b[0m 99.94   \u001b[0m | \u001b[0m 72.96   \u001b[0m | \u001b[0m 0.1183  \u001b[0m |\n",
            "| \u001b[0m 25      \u001b[0m | \u001b[0m 0.8691  \u001b[0m | \u001b[0m 40.32   \u001b[0m | \u001b[0m 71.18   \u001b[0m | \u001b[0m 99.49   \u001b[0m | \u001b[0m 0.1612  \u001b[0m |\n",
            "| \u001b[0m 26      \u001b[0m | \u001b[0m 0.8692  \u001b[0m | \u001b[0m 51.2    \u001b[0m | \u001b[0m 83.68   \u001b[0m | \u001b[0m 99.61   \u001b[0m | \u001b[0m 0.467   \u001b[0m |\n",
            "| \u001b[0m 27      \u001b[0m | \u001b[0m 0.8679  \u001b[0m | \u001b[0m 55.63   \u001b[0m | \u001b[0m 38.63   \u001b[0m | \u001b[0m 80.92   \u001b[0m | \u001b[0m 0.6165  \u001b[0m |\n",
            "| \u001b[0m 28      \u001b[0m | \u001b[0m 0.8691  \u001b[0m | \u001b[0m 57.57   \u001b[0m | \u001b[0m 43.61   \u001b[0m | \u001b[0m 98.71   \u001b[0m | \u001b[0m 0.1161  \u001b[0m |\n",
            "| \u001b[0m 29      \u001b[0m | \u001b[0m 0.8653  \u001b[0m | \u001b[0m 70.98   \u001b[0m | \u001b[0m 29.67   \u001b[0m | \u001b[0m 60.32   \u001b[0m | \u001b[0m 0.1082  \u001b[0m |\n",
            "| \u001b[0m 30      \u001b[0m | \u001b[0m 0.8661  \u001b[0m | \u001b[0m 98.49   \u001b[0m | \u001b[0m 73.23   \u001b[0m | \u001b[0m 66.98   \u001b[0m | \u001b[0m 0.2213  \u001b[0m |\n",
            "=========================================================================\n"
          ],
          "name": "stdout"
        }
      ]
    },
    {
      "cell_type": "code",
      "metadata": {
        "id": "xc6ARoN4rUN3",
        "colab_type": "code",
        "colab": {
          "base_uri": "https://localhost:8080/",
          "height": 35
        },
        "outputId": "41759cb2-83e7-4b49-ac47-38e8f38fa3ed"
      },
      "source": [
        "1 - rf_bo.max['target']"
      ],
      "execution_count": 73,
      "outputs": [
        {
          "output_type": "execute_result",
          "data": {
            "text/plain": [
              "0.1305349921734692"
            ]
          },
          "metadata": {
            "tags": []
          },
          "execution_count": 73
        }
      ]
    },
    {
      "cell_type": "markdown",
      "metadata": {
        "id": "oHKSsRXDT8iL",
        "colab_type": "text"
      },
      "source": [
        "总结\n",
        "在本章，完成了建模与调参的工作，并对模型进行了验证。此外，还采用了一些基本方法来提高预测的精度，提升如下图所示"
      ]
    },
    {
      "cell_type": "code",
      "metadata": {
        "id": "Qu07oXhxrWjG",
        "colab_type": "code",
        "colab": {
          "base_uri": "https://localhost:8080/",
          "height": 280
        },
        "outputId": "d8c15f5c-b9d9-4e92-87da-a8b512bab884"
      },
      "source": [
        "plt.figure(figsize=(13,5))\n",
        "sns.lineplot(x=['0_origin','1_log_transfer','2_L1_&_L2','3_change_model','4_parameter_turning'], y=[1.36 ,0.19, 0.19, 0.14, 0.13])"
      ],
      "execution_count": 74,
      "outputs": [
        {
          "output_type": "execute_result",
          "data": {
            "text/plain": [
              "<matplotlib.axes._subplots.AxesSubplot at 0x7fb6933bdda0>"
            ]
          },
          "metadata": {
            "tags": []
          },
          "execution_count": 74
        },
        {
          "output_type": "display_data",
          "data": {
            "image/png": "[encoded data removed]",
            "text/plain": [
              "<Figure size 936x360 with 1 Axes>"
            ]
          },
          "metadata": {
            "tags": []
          }
        }
      ]
    }
  ]
}