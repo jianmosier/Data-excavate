{
  "nbformat": 4,
  "nbformat_minor": 0,
  "metadata": {
    "colab": {
      "name": "Task4建模调参.ipynb",
      "provenance": [],
      "collapsed_sections": [],
      "authorship_tag": "ABX9TyMpLIVQxjDhzu+Rf25m2Jah",
      "include_colab_link": true
    },
    "kernelspec": {
      "name": "python3",
      "display_name": "Python 3"
    }
  },
  "cells": [
    {
      "cell_type": "markdown",
      "metadata": {
        "id": "view-in-github",
        "colab_type": "text"
      },
      "source": [
        "<a href=\"https://colab.research.google.com/github/jianmosier/Data-excavate/blob/master/forth%20card/Task4%E5%BB%BA%E6%A8%A1%E8%B0%83%E5%8F%82.ipynb\" target=\"_parent\"><img src=\"https://colab.research.google.com/assets/colab-badge.svg\" alt=\"Open In Colab\"/></a>"
      ]
    },
    {
      "cell_type": "code",
      "metadata": {
        "id": "7Khl16c5olht",
        "colab_type": "code",
        "colab": {}
      },
      "source": [
        "import pandas as pd\n",
        "import numpy as np\n",
        "import warnings\n",
        "warnings.filterwarnings('ignore')"
      ],
      "execution_count": 0,
      "outputs": []
    },
    {
      "cell_type": "code",
      "metadata": {
        "id": "C9Gh6VLUo7I7",
        "colab_type": "code",
        "colab": {}
      },
      "source": [
        "def reduce_mem_usage(df):\n",
        "    \"\"\" iterate through all the columns of a dataframe and modify the data type\n",
        "        to reduce memory usage.        \n",
        "    \"\"\"\n",
        "    start_mem = df.memory_usage().sum() \n",
        "    print('Memory usage of dataframe is {:.2f} MB'.format(start_mem))\n",
        "    \n",
        "    for col in df.columns:\n",
        "        col_type = df[col].dtype\n",
        "        \n",
        "        if col_type != object:\n",
        "            c_min = df[col].min()\n",
        "            c_max = df[col].max()\n",
        "            if str(col_type)[:3] == 'int':\n",
        "                if c_min > np.iinfo(np.int8).min and c_max < np.iinfo(np.int8).max:\n",
        "                    df[col] = df[col].astype(np.int8)\n",
        "                elif c_min > np.iinfo(np.int16).min and c_max < np.iinfo(np.int16).max:\n",
        "                    df[col] = df[col].astype(np.int16)\n",
        "                elif c_min > np.iinfo(np.int32).min and c_max < np.iinfo(np.int32).max:\n",
        "                    df[col] = df[col].astype(np.int32)\n",
        "                elif c_min > np.iinfo(np.int64).min and c_max < np.iinfo(np.int64).max:\n",
        "                    df[col] = df[col].astype(np.int64)  \n",
        "            else:\n",
        "                if c_min > np.finfo(np.float16).min and c_max < np.finfo(np.float16).max:\n",
        "                    df[col] = df[col].astype(np.float16)\n",
        "                elif c_min > np.finfo(np.float32).min and c_max < np.finfo(np.float32).max:\n",
        "                    df[col] = df[col].astype(np.float32)\n",
        "                else:\n",
        "                    df[col] = df[col].astype(np.float64)\n",
        "        else:\n",
        "            df[col] = df[col].astype('category')\n",
        "\n",
        "    end_mem = df.memory_usage().sum() \n",
        "    print('Memory usage after optimization is: {:.2f} MB'.format(end_mem))\n",
        "    print('Decreased by {:.1f}%'.format(100 * (start_mem - end_mem) / start_mem))\n",
        "    return df"
      ],
      "execution_count": 0,
      "outputs": []
    },
    {
      "cell_type": "code",
      "metadata": {
        "id": "jeG0X-Lyo9zd",
        "colab_type": "code",
        "colab": {}
      },
      "source": [
        "sample_feature = reduce_mem_usage(pd.read_csv('data_for_tree.csv'))"
      ],
      "execution_count": 0,
      "outputs": []
    },
    {
      "cell_type": "code",
      "metadata": {
        "id": "FHciGNaUo_67",
        "colab_type": "code",
        "colab": {}
      },
      "source": [
        "continuous_feature_names = [x for x in sample_feature.columns if x not in ['price','brand','model','brand']]"
      ],
      "execution_count": 0,
      "outputs": []
    },
    {
      "cell_type": "code",
      "metadata": {
        "id": "a-HSuKytpCip",
        "colab_type": "code",
        "colab": {}
      },
      "source": [
        "sample_feature = sample_feature.dropna().replace('-', 0).reset_index(drop=True)\n",
        "sample_feature['notRepairedDamage'] = sample_feature['notRepairedDamage'].astype(np.float32)\n",
        "train = sample_feature[continuous_feature_names + ['price']]\n",
        "\n",
        "train_X = train[continuous_feature_names]\n",
        "train_y = train['price']"
      ],
      "execution_count": 0,
      "outputs": []
    },
    {
      "cell_type": "code",
      "metadata": {
        "id": "KFz5uT6OpFLR",
        "colab_type": "code",
        "colab": {}
      },
      "source": [
        "from sklearn.linear_model import LinearRegression"
      ],
      "execution_count": 0,
      "outputs": []
    },
    {
      "cell_type": "code",
      "metadata": {
        "id": "mmxEmSwMpGk4",
        "colab_type": "code",
        "colab": {}
      },
      "source": [
        "model = LinearRegression(normalize=True)"
      ],
      "execution_count": 0,
      "outputs": []
    },
    {
      "cell_type": "code",
      "metadata": {
        "id": "gj-BN4JspIZd",
        "colab_type": "code",
        "colab": {}
      },
      "source": [
        "model = model.fit(train_X, train_y)"
      ],
      "execution_count": 0,
      "outputs": []
    },
    {
      "cell_type": "code",
      "metadata": {
        "id": "v3xskDu6pLu9",
        "colab_type": "code",
        "colab": {}
      },
      "source": [
        "'intercept:'+ str(model.intercept_)\n",
        "\n",
        "sorted(dict(zip(continuous_feature_names, model.coef_)).items(), key=lambda x:x[1], reverse=True)"
      ],
      "execution_count": 0,
      "outputs": []
    },
    {
      "cell_type": "code",
      "metadata": {
        "id": "DFLLVnJkpOZh",
        "colab_type": "code",
        "colab": {}
      },
      "source": [
        "from matplotlib import pyplot as plt"
      ],
      "execution_count": 0,
      "outputs": []
    },
    {
      "cell_type": "code",
      "metadata": {
        "id": "Actg10lupREx",
        "colab_type": "code",
        "colab": {}
      },
      "source": [
        "subsample_index = np.random.randint(low=0, high=len(train_y), size=50)"
      ],
      "execution_count": 0,
      "outputs": []
    },
    {
      "cell_type": "code",
      "metadata": {
        "id": "5TuC6MWSpS49",
        "colab_type": "code",
        "colab": {}
      },
      "source": [
        "plt.scatter(train_X['v_9'][subsample_index], train_y[subsample_index], color='black')\n",
        "plt.scatter(train_X['v_9'][subsample_index], model.predict(train_X.loc[subsample_index]), color='blue')\n",
        "plt.xlabel('v_9')\n",
        "plt.ylabel('price')\n",
        "plt.legend(['True Price','Predicted Price'],loc='upper right')\n",
        "print('The predicted price is obvious different from true price')\n",
        "plt.show()"
      ],
      "execution_count": 0,
      "outputs": []
    },
    {
      "cell_type": "code",
      "metadata": {
        "id": "ScpI50UJpV7y",
        "colab_type": "code",
        "colab": {}
      },
      "source": [
        "import seaborn as sns\n",
        "print('It is clear to see the price shows a typical exponential distribution')\n",
        "plt.figure(figsize=(15,5))\n",
        "plt.subplot(1,2,1)\n",
        "sns.distplot(train_y)\n",
        "plt.subplot(1,2,2)\n",
        "sns.distplot(train_y[train_y < np.quantile(train_y, 0.9)])"
      ],
      "execution_count": 0,
      "outputs": []
    },
    {
      "cell_type": "code",
      "metadata": {
        "id": "6oZchicMpY5u",
        "colab_type": "code",
        "colab": {}
      },
      "source": [
        "train_y_ln = np.log(train_y + 1)"
      ],
      "execution_count": 0,
      "outputs": []
    },
    {
      "cell_type": "code",
      "metadata": {
        "id": "ti-DXxDBpbLg",
        "colab_type": "code",
        "colab": {}
      },
      "source": [
        "import seaborn as sns\n",
        "print('The transformed price seems like normal distribution')\n",
        "plt.figure(figsize=(15,5))\n",
        "plt.subplot(1,2,1)\n",
        "sns.distplot(train_y_ln)\n",
        "plt.subplot(1,2,2)\n",
        "sns.distplot(train_y_ln[train_y_ln < np.quantile(train_y_ln, 0.9)])"
      ],
      "execution_count": 0,
      "outputs": []
    },
    {
      "cell_type": "code",
      "metadata": {
        "id": "vrvmA-KdpgUn",
        "colab_type": "code",
        "colab": {}
      },
      "source": [
        "model = model.fit(train_X, train_y_ln)\n",
        "\n",
        "print('intercept:'+ str(model.intercept_))\n",
        "sorted(dict(zip(continuous_feature_names, model.coef_)).items(), key=lambda x:x[1], reverse=True)"
      ],
      "execution_count": 0,
      "outputs": []
    },
    {
      "cell_type": "code",
      "metadata": {
        "id": "UMK9oxfjpjSO",
        "colab_type": "code",
        "colab": {}
      },
      "source": [
        "plt.scatter(train_X['v_9'][subsample_index], train_y[subsample_index], color='black')\n",
        "plt.scatter(train_X['v_9'][subsample_index], np.exp(model.predict(train_X.loc[subsample_index])), color='blue')\n",
        "plt.xlabel('v_9')\n",
        "plt.ylabel('price')\n",
        "plt.legend(['True Price','Predicted Price'],loc='upper right')\n",
        "print('The predicted price seems normal after np.log transforming')\n",
        "plt.show()"
      ],
      "execution_count": 0,
      "outputs": []
    },
    {
      "cell_type": "code",
      "metadata": {
        "id": "JmmhRalspl-t",
        "colab_type": "code",
        "colab": {}
      },
      "source": [
        "from sklearn.model_selection import cross_val_score\n",
        "from sklearn.metrics import mean_absolute_error,  make_scorer"
      ],
      "execution_count": 0,
      "outputs": []
    },
    {
      "cell_type": "code",
      "metadata": {
        "id": "fd6qDwM9pn6R",
        "colab_type": "code",
        "colab": {}
      },
      "source": [
        "def log_transfer(func):\n",
        "    def wrapper(y, yhat):\n",
        "        result = func(np.log(y), np.nan_to_num(np.log(yhat)))\n",
        "        return result\n",
        "    return wrapper"
      ],
      "execution_count": 0,
      "outputs": []
    },
    {
      "cell_type": "code",
      "metadata": {
        "id": "zfdQfR2DpqOO",
        "colab_type": "code",
        "colab": {}
      },
      "source": [
        "scores = cross_val_score(model, X=train_X, y=train_y, verbose=1, cv = 5, scoring=make_scorer(log_transfer(mean_absolute_error)))"
      ],
      "execution_count": 0,
      "outputs": []
    },
    {
      "cell_type": "code",
      "metadata": {
        "id": "R0EsX4KWpsZu",
        "colab_type": "code",
        "colab": {}
      },
      "source": [
        "print('AVG:', np.mean(scores))"
      ],
      "execution_count": 0,
      "outputs": []
    },
    {
      "cell_type": "code",
      "metadata": {
        "id": "Lk_vxRYkpt1X",
        "colab_type": "code",
        "colab": {}
      },
      "source": [
        "scores = cross_val_score(model, X=train_X, y=train_y_ln, verbose=1, cv = 5, scoring=make_scorer(mean_absolute_error))"
      ],
      "execution_count": 0,
      "outputs": []
    },
    {
      "cell_type": "code",
      "metadata": {
        "id": "nwOcIsNYpwDK",
        "colab_type": "code",
        "colab": {}
      },
      "source": [
        "print('AVG:', np.mean(scores))"
      ],
      "execution_count": 0,
      "outputs": []
    },
    {
      "cell_type": "code",
      "metadata": {
        "id": "Pdd_KQkrpy52",
        "colab_type": "code",
        "colab": {}
      },
      "source": [
        "scores = pd.DataFrame(scores.reshape(1,-1))\n",
        "scores.columns = ['cv' + str(x) for x in range(1, 6)]\n",
        "scores.index = ['MAE']\n",
        "scores"
      ],
      "execution_count": 0,
      "outputs": []
    },
    {
      "cell_type": "code",
      "metadata": {
        "id": "bOkRj2Yap123",
        "colab_type": "code",
        "colab": {}
      },
      "source": [
        "import datetime"
      ],
      "execution_count": 0,
      "outputs": []
    },
    {
      "cell_type": "code",
      "metadata": {
        "id": "PNyKuBKYp4Gw",
        "colab_type": "code",
        "colab": {}
      },
      "source": [
        "sample_feature = sample_feature.reset_index(drop=True)"
      ],
      "execution_count": 0,
      "outputs": []
    },
    {
      "cell_type": "code",
      "metadata": {
        "id": "mWq4gl7Qp8w1",
        "colab_type": "code",
        "colab": {}
      },
      "source": [
        "split_point = len(sample_feature) // 5 * 4"
      ],
      "execution_count": 0,
      "outputs": []
    },
    {
      "cell_type": "code",
      "metadata": {
        "id": "E4D6maVap-37",
        "colab_type": "code",
        "colab": {}
      },
      "source": [
        "train = sample_feature.loc[:split_point].dropna()\n",
        "val = sample_feature.loc[split_point:].dropna()\n",
        "\n",
        "train_X = train[continuous_feature_names]\n",
        "train_y_ln = np.log(train['price'] + 1)\n",
        "val_X = val[continuous_feature_names]\n",
        "val_y_ln = np.log(val['price'] + 1)"
      ],
      "execution_count": 0,
      "outputs": []
    },
    {
      "cell_type": "code",
      "metadata": {
        "id": "3tzMXJdXqB3h",
        "colab_type": "code",
        "colab": {}
      },
      "source": [
        "model = model.fit(train_X, train_y_ln)"
      ],
      "execution_count": 0,
      "outputs": []
    },
    {
      "cell_type": "code",
      "metadata": {
        "id": "dRGFt0U5qDg-",
        "colab_type": "code",
        "colab": {}
      },
      "source": [
        "mean_absolute_error(val_y_ln, model.predict(val_X))"
      ],
      "execution_count": 0,
      "outputs": []
    },
    {
      "cell_type": "code",
      "metadata": {
        "id": "LXrD63sIqFzb",
        "colab_type": "code",
        "colab": {}
      },
      "source": [
        "from sklearn.model_selection import learning_curve, validation_curve"
      ],
      "execution_count": 0,
      "outputs": []
    },
    {
      "cell_type": "code",
      "metadata": {
        "id": "Xmw8ipvRqHiL",
        "colab_type": "code",
        "colab": {}
      },
      "source": [
        "? learning_curve"
      ],
      "execution_count": 0,
      "outputs": []
    },
    {
      "cell_type": "code",
      "metadata": {
        "id": "TzqT5QhhqLvn",
        "colab_type": "code",
        "colab": {}
      },
      "source": [
        "def plot_learning_curve(estimator, title, X, y, ylim=None, cv=None,n_jobs=1, train_size=np.linspace(.1, 1.0, 5 )):  \n",
        "    plt.figure()  \n",
        "    plt.title(title)  \n",
        "    if ylim is not None:  \n",
        "        plt.ylim(*ylim)  \n",
        "    plt.xlabel('Training example')  \n",
        "    plt.ylabel('score')  \n",
        "    train_sizes, train_scores, test_scores = learning_curve(estimator, X, y, cv=cv, n_jobs=n_jobs, train_sizes=train_size, scoring = make_scorer(mean_absolute_error))  \n",
        "    train_scores_mean = np.mean(train_scores, axis=1)  \n",
        "    train_scores_std = np.std(train_scores, axis=1)  \n",
        "    test_scores_mean = np.mean(test_scores, axis=1)  \n",
        "    test_scores_std = np.std(test_scores, axis=1)  \n",
        "    plt.grid()#区域  \n",
        "    plt.fill_between(train_sizes, train_scores_mean - train_scores_std,  \n",
        "                     train_scores_mean + train_scores_std, alpha=0.1,  \n",
        "                     color=\"r\")  \n",
        "    plt.fill_between(train_sizes, test_scores_mean - test_scores_std,  \n",
        "                     test_scores_mean + test_scores_std, alpha=0.1,  \n",
        "                     color=\"g\")  \n",
        "    plt.plot(train_sizes, train_scores_mean, 'o-', color='r',  \n",
        "             label=\"Training score\")  \n",
        "    plt.plot(train_sizes, test_scores_mean,'o-',color=\"g\",  \n",
        "             label=\"Cross-validation score\")  \n",
        "    plt.legend(loc=\"best\")  \n",
        "    return plt  "
      ],
      "execution_count": 0,
      "outputs": []
    },
    {
      "cell_type": "code",
      "metadata": {
        "id": "gw6io-pxqN4f",
        "colab_type": "code",
        "colab": {}
      },
      "source": [
        "plot_learning_curve(LinearRegression(), 'Liner_model', train_X[:1000], train_y_ln[:1000], ylim=(0.0, 0.5), cv=5, n_jobs=1)  "
      ],
      "execution_count": 0,
      "outputs": []
    },
    {
      "cell_type": "code",
      "metadata": {
        "id": "-KuXKJ0LqQqZ",
        "colab_type": "code",
        "colab": {}
      },
      "source": [
        "train = sample_feature[continuous_feature_names + ['price']].dropna()\n",
        "\n",
        "train_X = train[continuous_feature_names]\n",
        "train_y = train['price']\n",
        "train_y_ln = np.log(train_y + 1)"
      ],
      "execution_count": 0,
      "outputs": []
    },
    {
      "cell_type": "code",
      "metadata": {
        "id": "q6a8k4V6qU51",
        "colab_type": "code",
        "colab": {}
      },
      "source": [
        "from sklearn.linear_model import LinearRegression\n",
        "from sklearn.linear_model import Ridge\n",
        "from sklearn.linear_model import Lasso"
      ],
      "execution_count": 0,
      "outputs": []
    },
    {
      "cell_type": "code",
      "metadata": {
        "id": "LgYP3-SnqWu5",
        "colab_type": "code",
        "colab": {}
      },
      "source": [
        "models = [LinearRegression(),\n",
        "          Ridge(),\n",
        "          Lasso()]"
      ],
      "execution_count": 0,
      "outputs": []
    },
    {
      "cell_type": "code",
      "metadata": {
        "id": "2uVbYxH3qZIC",
        "colab_type": "code",
        "colab": {}
      },
      "source": [
        "result = dict()\n",
        "for model in models:\n",
        "    model_name = str(model).split('(')[0]\n",
        "    scores = cross_val_score(model, X=train_X, y=train_y_ln, verbose=0, cv = 5, scoring=make_scorer(mean_absolute_error))\n",
        "    result[model_name] = scores\n",
        "    print(model_name + ' is finished')"
      ],
      "execution_count": 0,
      "outputs": []
    },
    {
      "cell_type": "code",
      "metadata": {
        "id": "jbqWbV50qfV7",
        "colab_type": "code",
        "colab": {}
      },
      "source": [
        "result = pd.DataFrame(result)\n",
        "result.index = ['cv' + str(x) for x in range(1, 6)]\n",
        "result"
      ],
      "execution_count": 0,
      "outputs": []
    },
    {
      "cell_type": "code",
      "metadata": {
        "id": "UF7vOP6qqjtt",
        "colab_type": "code",
        "colab": {}
      },
      "source": [
        "model = LinearRegression().fit(train_X, train_y_ln)\n",
        "print('intercept:'+ str(model.intercept_))\n",
        "sns.barplot(abs(model.coef_), continuous_feature_names)"
      ],
      "execution_count": 0,
      "outputs": []
    },
    {
      "cell_type": "code",
      "metadata": {
        "id": "w87nm9HMqoRK",
        "colab_type": "code",
        "colab": {}
      },
      "source": [
        "model = Ridge().fit(train_X, train_y_ln)\n",
        "print('intercept:'+ str(model.intercept_))\n",
        "sns.barplot(abs(model.coef_), continuous_feature_names)"
      ],
      "execution_count": 0,
      "outputs": []
    },
    {
      "cell_type": "code",
      "metadata": {
        "id": "4Ybj6w0Wqq7J",
        "colab_type": "code",
        "colab": {}
      },
      "source": [
        "model = Lasso().fit(train_X, train_y_ln)\n",
        "print('intercept:'+ str(model.intercept_))\n",
        "sns.barplot(abs(model.coef_), continuous_feature_names)"
      ],
      "execution_count": 0,
      "outputs": []
    },
    {
      "cell_type": "code",
      "metadata": {
        "id": "SqjNPI4Cqt1U",
        "colab_type": "code",
        "colab": {}
      },
      "source": [
        "from sklearn.linear_model import LinearRegression\n",
        "from sklearn.svm import SVC\n",
        "from sklearn.tree import DecisionTreeRegressor\n",
        "from sklearn.ensemble import RandomForestRegressor\n",
        "from sklearn.ensemble import GradientBoostingRegressor\n",
        "from sklearn.neural_network import MLPRegressor\n",
        "from xgboost.sklearn import XGBRegressor\n",
        "from lightgbm.sklearn import LGBMRegressor"
      ],
      "execution_count": 0,
      "outputs": []
    },
    {
      "cell_type": "code",
      "metadata": {
        "id": "TVEuQXdqqv9E",
        "colab_type": "code",
        "colab": {}
      },
      "source": [
        "models = [LinearRegression(),\n",
        "          DecisionTreeRegressor(),\n",
        "          RandomForestRegressor(),\n",
        "          GradientBoostingRegressor(),\n",
        "          MLPRegressor(solver='lbfgs', max_iter=100), \n",
        "          XGBRegressor(n_estimators = 100, objective='reg:squarederror'), \n",
        "          LGBMRegressor(n_estimators = 100)]"
      ],
      "execution_count": 0,
      "outputs": []
    },
    {
      "cell_type": "code",
      "metadata": {
        "id": "RgzvSv5sqyDj",
        "colab_type": "code",
        "colab": {}
      },
      "source": [
        "result = dict()\n",
        "for model in models:\n",
        "    model_name = str(model).split('(')[0]\n",
        "    scores = cross_val_score(model, X=train_X, y=train_y_ln, verbose=0, cv = 5, scoring=make_scorer(mean_absolute_error))\n",
        "    result[model_name] = scores\n",
        "    print(model_name + ' is finished')"
      ],
      "execution_count": 0,
      "outputs": []
    },
    {
      "cell_type": "code",
      "metadata": {
        "id": "POj_hA0pq0Z8",
        "colab_type": "code",
        "colab": {}
      },
      "source": [
        "result = pd.DataFrame(result)\n",
        "result.index = ['cv' + str(x) for x in range(1, 6)]\n",
        "result"
      ],
      "execution_count": 0,
      "outputs": []
    },
    {
      "cell_type": "code",
      "metadata": {
        "id": "jPAZZbicq4HE",
        "colab_type": "code",
        "colab": {}
      },
      "source": [
        "## LGB的参数集合：\n",
        "\n",
        "objective = ['regression', 'regression_l1', 'mape', 'huber', 'fair']\n",
        "\n",
        "num_leaves = [3,5,10,15,20,40, 55]\n",
        "max_depth = [3,5,10,15,20,40, 55]\n",
        "bagging_fraction = []\n",
        "feature_fraction = []\n",
        "drop_rate = []"
      ],
      "execution_count": 0,
      "outputs": []
    },
    {
      "cell_type": "code",
      "metadata": {
        "id": "vxE4UmdAq7p6",
        "colab_type": "code",
        "colab": {}
      },
      "source": [
        "best_obj = dict()\n",
        "for obj in objective:\n",
        "    model = LGBMRegressor(objective=obj)\n",
        "    score = np.mean(cross_val_score(model, X=train_X, y=train_y_ln, verbose=0, cv = 5, scoring=make_scorer(mean_absolute_error)))\n",
        "    best_obj[obj] = score\n",
        "    \n",
        "best_leaves = dict()\n",
        "for leaves in num_leaves:\n",
        "    model = LGBMRegressor(objective=min(best_obj.items(), key=lambda x:x[1])[0], num_leaves=leaves)\n",
        "    score = np.mean(cross_val_score(model, X=train_X, y=train_y_ln, verbose=0, cv = 5, scoring=make_scorer(mean_absolute_error)))\n",
        "    best_leaves[leaves] = score\n",
        "    \n",
        "best_depth = dict()\n",
        "for depth in max_depth:\n",
        "    model = LGBMRegressor(objective=min(best_obj.items(), key=lambda x:x[1])[0],\n",
        "                          num_leaves=min(best_leaves.items(), key=lambda x:x[1])[0],\n",
        "                          max_depth=depth)\n",
        "    score = np.mean(cross_val_score(model, X=train_X, y=train_y_ln, verbose=0, cv = 5, scoring=make_scorer(mean_absolute_error)))\n",
        "    best_depth[depth] = score"
      ],
      "execution_count": 0,
      "outputs": []
    },
    {
      "cell_type": "code",
      "metadata": {
        "id": "2Lv4Ys3iq9_Y",
        "colab_type": "code",
        "colab": {}
      },
      "source": [
        "sns.lineplot(x=['0_initial','1_turning_obj','2_turning_leaves','3_turning_depth'], y=[0.143 ,min(best_obj.values()), min(best_leaves.values()), min(best_depth.values())])"
      ],
      "execution_count": 0,
      "outputs": []
    },
    {
      "cell_type": "code",
      "metadata": {
        "id": "sT8oP9BerAMV",
        "colab_type": "code",
        "colab": {}
      },
      "source": [
        "from sklearn.model_selection import GridSearchCV"
      ],
      "execution_count": 0,
      "outputs": []
    },
    {
      "cell_type": "code",
      "metadata": {
        "id": "nScV5IlKrB7C",
        "colab_type": "code",
        "colab": {}
      },
      "source": [
        "parameters = {'objective': objective , 'num_leaves': num_leaves, 'max_depth': max_depth}\n",
        "model = LGBMRegressor()\n",
        "clf = GridSearchCV(model, parameters, cv=5)\n",
        "clf = clf.fit(train_X, train_y)"
      ],
      "execution_count": 0,
      "outputs": []
    },
    {
      "cell_type": "code",
      "metadata": {
        "id": "IVe_fPSvrEJl",
        "colab_type": "code",
        "colab": {}
      },
      "source": [
        "clf.best_params_"
      ],
      "execution_count": 0,
      "outputs": []
    },
    {
      "cell_type": "code",
      "metadata": {
        "id": "TlrmLbf-rFsz",
        "colab_type": "code",
        "colab": {}
      },
      "source": [
        "model = LGBMRegressor(objective='regression',\n",
        "                          num_leaves=55,\n",
        "                          max_depth=15)"
      ],
      "execution_count": 0,
      "outputs": []
    },
    {
      "cell_type": "code",
      "metadata": {
        "id": "DXJLVwbtrIBy",
        "colab_type": "code",
        "colab": {}
      },
      "source": [
        "np.mean(cross_val_score(model, X=train_X, y=train_y_ln, verbose=0, cv = 5, scoring=make_scorer(mean_absolute_error)))"
      ],
      "execution_count": 0,
      "outputs": []
    },
    {
      "cell_type": "code",
      "metadata": {
        "id": "i11dWR_yrKbZ",
        "colab_type": "code",
        "colab": {}
      },
      "source": [
        "from bayes_opt import BayesianOptimization"
      ],
      "execution_count": 0,
      "outputs": []
    },
    {
      "cell_type": "code",
      "metadata": {
        "id": "cEql_BnVrMT0",
        "colab_type": "code",
        "colab": {}
      },
      "source": [
        "def rf_cv(num_leaves, max_depth, subsample, min_child_samples):\n",
        "    val = cross_val_score(\n",
        "        LGBMRegressor(objective = 'regression_l1',\n",
        "            num_leaves=int(num_leaves),\n",
        "            max_depth=int(max_depth),\n",
        "            subsample = subsample,\n",
        "            min_child_samples = int(min_child_samples)\n",
        "        ),\n",
        "        X=train_X, y=train_y_ln, verbose=0, cv = 5, scoring=make_scorer(mean_absolute_error)\n",
        "    ).mean()\n",
        "    return 1 - val"
      ],
      "execution_count": 0,
      "outputs": []
    },
    {
      "cell_type": "code",
      "metadata": {
        "id": "9f5X3X9WrOq0",
        "colab_type": "code",
        "colab": {}
      },
      "source": [
        "rf_bo = BayesianOptimization(\n",
        "    rf_cv,\n",
        "    {\n",
        "    'num_leaves': (2, 100),\n",
        "    'max_depth': (2, 100),\n",
        "    'subsample': (0.1, 1),\n",
        "    'min_child_samples' : (2, 100)\n",
        "    }\n",
        ")"
      ],
      "execution_count": 0,
      "outputs": []
    },
    {
      "cell_type": "code",
      "metadata": {
        "id": "OhZokCO8rRCR",
        "colab_type": "code",
        "colab": {}
      },
      "source": [
        "rf_bo.maximize()"
      ],
      "execution_count": 0,
      "outputs": []
    },
    {
      "cell_type": "code",
      "metadata": {
        "id": "xc6ARoN4rUN3",
        "colab_type": "code",
        "colab": {}
      },
      "source": [
        "1 - rf_bo.max['target']"
      ],
      "execution_count": 0,
      "outputs": []
    },
    {
      "cell_type": "code",
      "metadata": {
        "id": "Qu07oXhxrWjG",
        "colab_type": "code",
        "colab": {}
      },
      "source": [
        "plt.figure(figsize=(13,5))\n",
        "sns.lineplot(x=['0_origin','1_log_transfer','2_L1_&_L2','3_change_model','4_parameter_turning'], y=[1.36 ,0.19, 0.19, 0.14, 0.13])"
      ],
      "execution_count": 0,
      "outputs": []
    }
  ]
}